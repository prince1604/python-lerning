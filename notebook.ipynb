{
 "cells": [
  {
   "metadata": {},
   "cell_type": "raw",
   "source": "print(\"hello user\");",
   "id": "ccbb4ae0061f0c79"
  },
  {
   "metadata": {},
   "cell_type": "markdown",
   "source": "",
   "id": "4ecb44b00c01230c"
  },
  {
   "metadata": {
    "ExecuteTime": {
     "end_time": "2025-02-10T10:59:06.147546Z",
     "start_time": "2025-02-10T10:59:06.088760Z"
    }
   },
   "cell_type": "code",
   "source": [
    "from csv import unix_dialect\n",
    "from enum import global_flag_repr\n",
    "\n",
    "x=4\n",
    "y=9\n",
    "print(x+y)\n"
   ],
   "id": "4c6942f3f6b5a36c",
   "outputs": [
    {
     "name": "stdout",
     "output_type": "stream",
     "text": [
      "13\n"
     ]
    }
   ],
   "execution_count": 58
  },
  {
   "metadata": {
    "ExecuteTime": {
     "end_time": "2025-02-10T10:59:06.187441Z",
     "start_time": "2025-02-10T10:59:06.176885Z"
    }
   },
   "cell_type": "code",
   "source": [
    "y=\"ok\"\n",
    "z=\"thnk you\"\n",
    "print(y)\n",
    "print(z)\n"
   ],
   "id": "59a8bcb447dcf2c0",
   "outputs": [
    {
     "name": "stdout",
     "output_type": "stream",
     "text": [
      "ok\n",
      "thnk you\n"
     ]
    }
   ],
   "execution_count": 59
  },
  {
   "metadata": {
    "ExecuteTime": {
     "end_time": "2025-02-10T10:59:06.243847Z",
     "start_time": "2025-02-10T10:59:06.234895Z"
    }
   },
   "cell_type": "code",
   "source": [
    "x= str(4)\n",
    "y= str(10)\n",
    "z= int(1)\n",
    "a= float(3.13)\n"
   ],
   "id": "3f9e38233f5d2e5a",
   "outputs": [],
   "execution_count": 60
  },
  {
   "metadata": {
    "ExecuteTime": {
     "end_time": "2025-02-10T10:59:06.284423Z",
     "start_time": "2025-02-10T10:59:06.275438Z"
    }
   },
   "cell_type": "code",
   "source": [
    "x = 8\n",
    "y = \"eminent\"\n",
    "print(type(x))\n",
    "print(type(y))"
   ],
   "id": "2f40be12f20f825",
   "outputs": [
    {
     "name": "stdout",
     "output_type": "stream",
     "text": [
      "<class 'int'>\n",
      "<class 'str'>\n"
     ]
    }
   ],
   "execution_count": 61
  },
  {
   "metadata": {
    "ExecuteTime": {
     "end_time": "2025-02-10T10:59:06.317438Z",
     "start_time": "2025-02-10T10:59:06.312349Z"
    }
   },
   "cell_type": "code",
   "source": [
    "x=\"eminent\"\n",
    "# it is same\n",
    "x=\"eminent\"\n"
   ],
   "id": "713d84516eff6d9f",
   "outputs": [],
   "execution_count": 62
  },
  {
   "metadata": {
    "ExecuteTime": {
     "end_time": "2025-02-10T10:59:06.369938Z",
     "start_time": "2025-02-10T10:59:06.363685Z"
    }
   },
   "cell_type": "code",
   "source": [
    "a=4\n",
    "A=\"Selling\"\n",
    "# it not overwrite a\n"
   ],
   "id": "2f4ca2363b0bd6f",
   "outputs": [],
   "execution_count": 63
  },
  {
   "metadata": {
    "ExecuteTime": {
     "end_time": "2025-02-10T10:59:06.413368Z",
     "start_time": "2025-02-10T10:59:06.407163Z"
    }
   },
   "cell_type": "code",
   "source": "my_var = \"eminent\"\n",
   "id": "b5c6d4c55e07e1b4",
   "outputs": [],
   "execution_count": 64
  },
  {
   "metadata": {
    "ExecuteTime": {
     "end_time": "2025-02-10T10:59:06.429114Z",
     "start_time": "2025-02-10T10:59:06.424224Z"
    }
   },
   "cell_type": "code",
   "source": [
    "myvar3=\"rajkot\"\n",
    "my_var =\"rajkot\"\n",
    "myVar = \"rajkot\"\n",
    "MYVAR = \"rajkot\"\n",
    "myvar2 = \"rajkot\"\n",
    "_my_var = \"rajkot\"\n",
    "\n"
   ],
   "id": "8ca383835c1bd835",
   "outputs": [],
   "execution_count": 65
  },
  {
   "metadata": {
    "ExecuteTime": {
     "end_time": "2025-02-10T10:59:06.454926Z",
     "start_time": "2025-02-10T10:59:06.448772Z"
    }
   },
   "cell_type": "code",
   "source": "myvariableName = \"rajkot\"\n",
   "id": "79a9036288d2572f",
   "outputs": [],
   "execution_count": 66
  },
  {
   "metadata": {
    "ExecuteTime": {
     "end_time": "2025-02-10T10:59:06.502719Z",
     "start_time": "2025-02-10T10:59:06.491857Z"
    }
   },
   "cell_type": "code",
   "source": [
    "a,b,c = \"apple\",\"mengo\",\"orange\"\n",
    "print(a)\n",
    "print(b)\n",
    "print(c)"
   ],
   "id": "381e0d9df7a92e5",
   "outputs": [
    {
     "name": "stdout",
     "output_type": "stream",
     "text": [
      "apple\n",
      "mengo\n",
      "orange\n"
     ]
    }
   ],
   "execution_count": 67
  },
  {
   "metadata": {
    "ExecuteTime": {
     "end_time": "2025-02-10T10:59:06.561499Z",
     "start_time": "2025-02-10T10:59:06.552229Z"
    }
   },
   "cell_type": "code",
   "source": [
    "x=y=z=\"apple\"\n",
    "print(x)\n",
    "print(y)\n",
    "print(z)"
   ],
   "id": "76777c974891bade",
   "outputs": [
    {
     "name": "stdout",
     "output_type": "stream",
     "text": [
      "apple\n",
      "apple\n",
      "apple\n"
     ]
    }
   ],
   "execution_count": 68
  },
  {
   "metadata": {
    "ExecuteTime": {
     "end_time": "2025-02-10T10:59:06.608352Z",
     "start_time": "2025-02-10T10:59:06.598613Z"
    }
   },
   "cell_type": "code",
   "source": [
    "fruits = [\"apple\", \"banana\", \"orange\"]\n",
    "x,y,z = fruits\n",
    "print(x)\n",
    "print(y)\n",
    "print(z)\n"
   ],
   "id": "369013edb45fd47",
   "outputs": [
    {
     "name": "stdout",
     "output_type": "stream",
     "text": [
      "apple\n",
      "banana\n",
      "orange\n"
     ]
    }
   ],
   "execution_count": 69
  },
  {
   "metadata": {
    "ExecuteTime": {
     "end_time": "2025-02-10T10:59:06.655963Z",
     "start_time": "2025-02-10T10:59:06.648406Z"
    }
   },
   "cell_type": "code",
   "source": [
    "x=\"python use\"\n",
    "print(x)"
   ],
   "id": "37ff9ccdaffddad4",
   "outputs": [
    {
     "name": "stdout",
     "output_type": "stream",
     "text": [
      "python use\n"
     ]
    }
   ],
   "execution_count": 70
  },
  {
   "metadata": {
    "ExecuteTime": {
     "end_time": "2025-02-10T10:59:06.699244Z",
     "start_time": "2025-02-10T10:59:06.690695Z"
    }
   },
   "cell_type": "code",
   "source": [
    "x=\"python\"\n",
    "y=\"is\"\n",
    "z=\"best\"\n",
    "print(x,y,z)\n"
   ],
   "id": "7eced7f62732ad26",
   "outputs": [
    {
     "name": "stdout",
     "output_type": "stream",
     "text": [
      "python is best\n"
     ]
    }
   ],
   "execution_count": 71
  },
  {
   "metadata": {
    "ExecuteTime": {
     "end_time": "2025-02-10T10:59:06.748678Z",
     "start_time": "2025-02-10T10:59:06.742471Z"
    }
   },
   "cell_type": "code",
   "source": [
    "x=\"python\"\n",
    "y=\"is\"\n",
    "z=\"best\"\n",
    "print(x+y+z)\n"
   ],
   "id": "3e16b50e65cde8c1",
   "outputs": [
    {
     "name": "stdout",
     "output_type": "stream",
     "text": [
      "pythonisbest\n"
     ]
    }
   ],
   "execution_count": 72
  },
  {
   "metadata": {
    "ExecuteTime": {
     "end_time": "2025-02-10T10:59:06.789390Z",
     "start_time": "2025-02-10T10:59:06.782361Z"
    }
   },
   "cell_type": "code",
   "source": [
    "x=\"rajkot\"\n",
    "z=\"gujrat\"\n",
    "a=\"india\"\n",
    "print(x+z+a)\n"
   ],
   "id": "8bf95a4ab008e39c",
   "outputs": [
    {
     "name": "stdout",
     "output_type": "stream",
     "text": [
      "rajkotgujratindia\n"
     ]
    }
   ],
   "execution_count": 73
  },
  {
   "metadata": {
    "ExecuteTime": {
     "end_time": "2025-02-10T10:59:06.829997Z",
     "start_time": "2025-02-10T10:59:06.822023Z"
    }
   },
   "cell_type": "code",
   "source": [
    "x=3\n",
    "z=0\n",
    "print(x+z)\n"
   ],
   "id": "e2c353903e354201",
   "outputs": [
    {
     "name": "stdout",
     "output_type": "stream",
     "text": [
      "3\n"
     ]
    }
   ],
   "execution_count": 74
  },
  {
   "metadata": {
    "ExecuteTime": {
     "end_time": "2025-02-10T10:59:06.876489Z",
     "start_time": "2025-02-10T10:59:06.869387Z"
    }
   },
   "cell_type": "code",
   "source": [
    "d=90\n",
    "z=10\n",
    "print(d-z)"
   ],
   "id": "693efac69d480ebf",
   "outputs": [
    {
     "name": "stdout",
     "output_type": "stream",
     "text": [
      "80\n"
     ]
    }
   ],
   "execution_count": 75
  },
  {
   "metadata": {
    "ExecuteTime": {
     "end_time": "2025-02-10T10:59:06.917156Z",
     "start_time": "2025-02-10T10:59:06.909894Z"
    }
   },
   "cell_type": "code",
   "source": [
    "t=10\n",
    "s=88\n",
    "print(t,s)\n"
   ],
   "id": "150537194f04ffbf",
   "outputs": [
    {
     "name": "stdout",
     "output_type": "stream",
     "text": [
      "10 88\n"
     ]
    }
   ],
   "execution_count": 76
  },
  {
   "metadata": {
    "ExecuteTime": {
     "end_time": "2025-02-10T10:59:06.984289Z",
     "start_time": "2025-02-10T10:59:06.976878Z"
    }
   },
   "cell_type": "code",
   "source": [
    "x=\"print\"\n",
    "z=\"hello\"\n",
    "print(x ,z)\n"
   ],
   "id": "11196ea3194581da",
   "outputs": [
    {
     "name": "stdout",
     "output_type": "stream",
     "text": [
      "print hello\n"
     ]
    }
   ],
   "execution_count": 77
  },
  {
   "metadata": {
    "ExecuteTime": {
     "end_time": "2025-02-10T10:59:07.027840Z",
     "start_time": "2025-02-10T10:59:07.018390Z"
    }
   },
   "cell_type": "code",
   "source": [
    "e=\"awesome\"\n",
    "\n",
    "def myfunc():\n",
    "    print(\"hello\"+y)\n",
    "\n",
    "myfunc()"
   ],
   "id": "1b76bd6f40e5ab57",
   "outputs": [
    {
     "name": "stdout",
     "output_type": "stream",
     "text": [
      "hellois\n"
     ]
    }
   ],
   "execution_count": 78
  },
  {
   "metadata": {
    "ExecuteTime": {
     "end_time": "2025-02-10T10:59:07.057880Z",
     "start_time": "2025-02-10T10:59:07.051499Z"
    }
   },
   "cell_type": "code",
   "source": [
    "w=\"good\"\n",
    "\n",
    "def myfunc():\n",
    "    print(\"hello\"+w)\n",
    "\n",
    "    myfunc()\n"
   ],
   "id": "b81bb4c45c2af94d",
   "outputs": [],
   "execution_count": 79
  },
  {
   "metadata": {
    "ExecuteTime": {
     "end_time": "2025-02-10T10:59:07.104833Z",
     "start_time": "2025-02-10T10:59:07.098811Z"
    }
   },
   "cell_type": "code",
   "source": [
    "def myfunc():\n",
    "    print(\"hello, this is my custom function!\")\n",
    "    #it is comment\n",
    "    myfunc()\n"
   ],
   "id": "2173bdc830673c21",
   "outputs": [],
   "execution_count": 80
  },
  {
   "metadata": {
    "ExecuteTime": {
     "end_time": "2025-02-10T10:59:07.146010Z",
     "start_time": "2025-02-10T10:59:07.140269Z"
    }
   },
   "cell_type": "code",
   "source": [
    "def greet(name):\n",
    "    print(f\"Hello, {name}!\")\n",
    "\n",
    "    greet(\"okay\")\n",
    "    greet(\"nice\")"
   ],
   "id": "8a9d1e0cc1f5f425",
   "outputs": [],
   "execution_count": 81
  },
  {
   "metadata": {
    "ExecuteTime": {
     "end_time": "2025-02-10T10:59:07.179184Z",
     "start_time": "2025-02-10T10:59:07.170814Z"
    }
   },
   "cell_type": "code",
   "source": [
    "r = \"information\"\n",
    "\n",
    "def myfunc():\n",
    "    print(\"python is\"+r)\n",
    "\n",
    "myfunc()"
   ],
   "id": "dba5c4d48eab6d00",
   "outputs": [
    {
     "name": "stdout",
     "output_type": "stream",
     "text": [
      "python isinformation\n"
     ]
    }
   ],
   "execution_count": 82
  },
  {
   "metadata": {
    "ExecuteTime": {
     "end_time": "2025-02-10T10:59:07.215668Z",
     "start_time": "2025-02-10T10:59:07.208509Z"
    }
   },
   "cell_type": "code",
   "source": [
    "w=\"instructions\"\n",
    "\n",
    "def myfunc():\n",
    "    w=\"information\"\n",
    "    print(\"python is \" +w)\n",
    "\n",
    "myfunc()\n",
    "print(\"python is \"+w)\n",
    "\n"
   ],
   "id": "35bd98cecac639a9",
   "outputs": [
    {
     "name": "stdout",
     "output_type": "stream",
     "text": [
      "python is information\n",
      "python is instructions\n"
     ]
    }
   ],
   "execution_count": 83
  },
  {
   "metadata": {
    "ExecuteTime": {
     "end_time": "2025-02-10T10:59:07.328486Z",
     "start_time": "2025-02-10T10:59:07.322828Z"
    }
   },
   "cell_type": "code",
   "source": [
    "x=\"nice to meet you\"\n",
    "z=\"it's okay\"\n",
    "\n",
    "def myfunc():\n",
    "    x=\"nice to meet you\"\n",
    "    print(x+z)\n",
    "\n",
    "    myfunc()"
   ],
   "id": "72969f6abe5b729b",
   "outputs": [],
   "execution_count": 84
  },
  {
   "metadata": {
    "ExecuteTime": {
     "end_time": "2025-02-10T11:02:06.571588Z",
     "start_time": "2025-02-10T11:02:06.547214Z"
    }
   },
   "cell_type": "code",
   "source": [
    "def myfunc():\n",
    "    global x\n",
    "    x = \"fentasic\"\n",
    "\n",
    "myfunc()\n",
    "\n",
    "print(x)"
   ],
   "id": "ccc15ff2838f3f73",
   "outputs": [
    {
     "name": "stdout",
     "output_type": "stream",
     "text": [
      "fentasic\n"
     ]
    }
   ],
   "execution_count": 88
  },
  {
   "metadata": {
    "ExecuteTime": {
     "end_time": "2025-02-10T11:03:00.089360Z",
     "start_time": "2025-02-10T11:03:00.075616Z"
    }
   },
   "cell_type": "code",
   "source": [
    "def myfunc():\n",
    "    global y\n",
    "    y = \"welcome\"\n",
    "\n",
    "myfunc()\n",
    "print(y)"
   ],
   "id": "515f09264a65a33a",
   "outputs": [
    {
     "name": "stdout",
     "output_type": "stream",
     "text": [
      "welcome\n"
     ]
    }
   ],
   "execution_count": 89
  },
  {
   "metadata": {
    "ExecuteTime": {
     "end_time": "2025-02-10T11:04:06.239478Z",
     "start_time": "2025-02-10T11:04:06.224749Z"
    }
   },
   "cell_type": "code",
   "source": [
    "v=\"awsome\"\n",
    "def myfunc():\n",
    "    global v\n",
    "    v=\"awsome\"\n",
    "myfunc()\n",
    "print(v)"
   ],
   "id": "81dd9b542978e020",
   "outputs": [
    {
     "name": "stdout",
     "output_type": "stream",
     "text": [
      "awsome\n"
     ]
    }
   ],
   "execution_count": 90
  },
  {
   "metadata": {
    "ExecuteTime": {
     "end_time": "2025-02-10T11:05:52.067663Z",
     "start_time": "2025-02-10T11:05:52.054697Z"
    }
   },
   "cell_type": "code",
   "source": [
    "t=\"global\"\n",
    "def myfunc():\n",
    "    global t\n",
    "    t=\"global\"\n",
    "myfunc()\n",
    "print(t)"
   ],
   "id": "8a527da0a70dc025",
   "outputs": [
    {
     "name": "stdout",
     "output_type": "stream",
     "text": [
      "global\n"
     ]
    }
   ],
   "execution_count": 91
  },
  {
   "metadata": {
    "ExecuteTime": {
     "end_time": "2025-02-10T11:08:33.342476Z",
     "start_time": "2025-02-10T11:08:33.334392Z"
    }
   },
   "cell_type": "code",
   "source": [
    "R=\"python devlopment\"\n",
    "def myfunc():\n",
    "    global R\n",
    "    R=\"python devlopment\"\n",
    "    myfunc()\n",
    "    print(R)\n",
    "\n"
   ],
   "id": "47fdca310ee9a191",
   "outputs": [],
   "execution_count": 127
  },
  {
   "metadata": {
    "ExecuteTime": {
     "end_time": "2025-02-10T11:10:00.890216Z",
     "start_time": "2025-02-10T11:10:00.882816Z"
    }
   },
   "cell_type": "code",
   "source": [
    "f=\"fruit\"\n",
    "def func():\n",
    "    global f\n",
    "    myfunc()\n",
    "    print(f)"
   ],
   "id": "b067f71cdbd3c07e",
   "outputs": [],
   "execution_count": 129
  },
  {
   "metadata": {
    "ExecuteTime": {
     "end_time": "2025-02-10T11:14:09.242934Z",
     "start_time": "2025-02-10T11:14:09.232689Z"
    }
   },
   "cell_type": "code",
   "source": [
    "x = 'awsome'\n",
    "def myfunc():\n",
    "    x='fantastic'\n",
    "myfunc()\n",
    "print('python is '+x)"
   ],
   "id": "90aed51f5c206353",
   "outputs": [
    {
     "name": "stdout",
     "output_type": "stream",
     "text": [
      "python is awsome\n"
     ]
    }
   ],
   "execution_count": 131
  },
  {
   "metadata": {
    "ExecuteTime": {
     "end_time": "2025-02-10T11:18:45.662274Z",
     "start_time": "2025-02-10T11:18:45.643780Z"
    }
   },
   "cell_type": "code",
   "source": "print('hello','world')",
   "id": "2da6a8a92b59fb77",
   "outputs": [
    {
     "name": "stdout",
     "output_type": "stream",
     "text": [
      "hello world\n"
     ]
    }
   ],
   "execution_count": 132
  },
  {
   "metadata": {
    "ExecuteTime": {
     "end_time": "2025-02-10T11:19:29.221110Z",
     "start_time": "2025-02-10T11:19:29.211026Z"
    }
   },
   "cell_type": "code",
   "source": [
    "a=\"hello\"\n",
    "b=\"world\"\n",
    "print(a+b)"
   ],
   "id": "72bd52795ad8d0b2",
   "outputs": [
    {
     "name": "stdout",
     "output_type": "stream",
     "text": [
      "helloworld\n"
     ]
    }
   ],
   "execution_count": 133
  },
  {
   "metadata": {
    "ExecuteTime": {
     "end_time": "2025-02-10T11:21:02.699088Z",
     "start_time": "2025-02-10T11:21:02.688686Z"
    }
   },
   "cell_type": "code",
   "source": [
    "def myfunc():\n",
    "    global a\n",
    "    a= \"nice\""
   ],
   "id": "4de46c82b1cc88e3",
   "outputs": [],
   "execution_count": 134
  },
  {
   "metadata": {
    "ExecuteTime": {
     "end_time": "2025-02-10T11:23:16.974196Z",
     "start_time": "2025-02-10T11:23:16.963650Z"
    }
   },
   "cell_type": "code",
   "source": [
    "x=\"awsome\"\n",
    "def myfunc():\n",
    "    global x\n",
    "    x = \"it's okay\"\n",
    "myfunc()\n",
    "print(\"pyhton is \"+x)"
   ],
   "id": "2c9d45b2eaec6",
   "outputs": [
    {
     "name": "stdout",
     "output_type": "stream",
     "text": [
      "pyhton is it's okay\n"
     ]
    }
   ],
   "execution_count": 135
  },
  {
   "metadata": {
    "ExecuteTime": {
     "end_time": "2025-02-10T11:26:26.632854Z",
     "start_time": "2025-02-10T11:26:26.614665Z"
    }
   },
   "cell_type": "code",
   "source": [
    "v=\"good\"\n",
    "def myfunc():\n",
    "    global v\n",
    "    v=\"good\"\n",
    "myfunc()\n",
    "print('that is '+v)"
   ],
   "id": "24c81306d1c875fa",
   "outputs": [
    {
     "name": "stdout",
     "output_type": "stream",
     "text": [
      "that is good\n"
     ]
    }
   ],
   "execution_count": 136
  },
  {
   "metadata": {
    "ExecuteTime": {
     "end_time": "2025-02-10T11:34:41.284369Z",
     "start_time": "2025-02-10T11:34:41.244116Z"
    }
   },
   "cell_type": "code",
   "source": [
    "def myfunc():\n",
    "    global c\n",
    "    c = \"you are user\"\n",
    "\n",
    "myfunc()\n",
    "print(c)"
   ],
   "id": "7eaac7f364011cad",
   "outputs": [
    {
     "name": "stdout",
     "output_type": "stream",
     "text": [
      "you are user\n"
     ]
    }
   ],
   "execution_count": 137
  },
  {
   "metadata": {},
   "cell_type": "code",
   "outputs": [],
   "execution_count": null,
   "source": [
    "import os\n",
    "from git import Repo\n",
    "\n",
    "repo_url = \"https://github.com/prince1604/python-lerning\"\n",
    "repo_dir = \"python-learning\"\n",
    "\n",
    "if not os.path.exists(repo_dir):\n",
    "    Repo.clone_from(repo_url, repo_dir)\n",
    "\n",
    "repo = Repo(repo_dir)\n",
    "repo.git.add(all=True)\n",
    "repo.index.commit(\"Updated notebook\")\n",
    "origin = repo.remote(name='origin')\n",
    "origin.push()\n",
    "\n",
    "\n",
    "C:\\Users\\ASUS\\PyCharmMiscProject\\eminentpython"
   ],
   "id": "4bb72d589738f656"
  }
 ],
 "metadata": {
  "kernelspec": {
   "display_name": "Python 3",
   "language": "python",
   "name": "python3"
  },
  "language_info": {
   "codemirror_mode": {
    "name": "ipython",
    "version": 2
   },
   "file_extension": ".py",
   "mimetype": "text/x-python",
   "name": "python",
   "nbconvert_exporter": "python",
   "pygments_lexer": "ipython2",
   "version": "2.7.6"
  }
 },
 "nbformat": 4,
 "nbformat_minor": 5
}
