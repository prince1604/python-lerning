{
 "cells": [
  {
   "cell_type": "raw",
   "id": "ccbb4ae0061f0c79",
   "metadata": {},
   "source": [
    "print(\"hello user\");"
   ]
  },
  {
   "cell_type": "markdown",
   "id": "4ecb44b00c01230c",
   "metadata": {},
   "source": []
  },
  {
   "cell_type": "code",
   "id": "4c6942f3f6b5a36c",
   "metadata": {
    "ExecuteTime": {
     "end_time": "2025-02-26T10:23:45.205446Z",
     "start_time": "2025-02-26T10:23:45.197843Z"
    }
   },
   "source": [
    "from csv import unix_dialect\n",
    "from enum import global_flag_repr\n",
    "\n",
    "x=4\n",
    "y=9\n",
    "print(x+y)\n"
   ],
   "outputs": [
    {
     "name": "stdout",
     "output_type": "stream",
     "text": [
      "13\n"
     ]
    }
   ],
   "execution_count": 71
  },
  {
   "cell_type": "code",
   "id": "59a8bcb447dcf2c0",
   "metadata": {
    "ExecuteTime": {
     "end_time": "2025-02-26T10:23:45.266431Z",
     "start_time": "2025-02-26T10:23:45.259779Z"
    }
   },
   "source": [
    "y=\"ok\"\n",
    "z=\"thnk you\"\n",
    "print(y)\n",
    "print(z)\n"
   ],
   "outputs": [
    {
     "name": "stdout",
     "output_type": "stream",
     "text": [
      "ok\n",
      "thnk you\n"
     ]
    }
   ],
   "execution_count": 72
  },
  {
   "cell_type": "code",
   "id": "3f9e38233f5d2e5a",
   "metadata": {
    "ExecuteTime": {
     "end_time": "2025-02-26T10:23:45.313055Z",
     "start_time": "2025-02-26T10:23:45.308055Z"
    }
   },
   "source": [
    "x= str(4)\n",
    "y= str(10)\n",
    "z= int(1)\n",
    "a= float(3.13)\n"
   ],
   "outputs": [],
   "execution_count": 73
  },
  {
   "cell_type": "code",
   "id": "2f40be12f20f825",
   "metadata": {
    "ExecuteTime": {
     "end_time": "2025-02-26T10:23:45.383353Z",
     "start_time": "2025-02-26T10:23:45.377433Z"
    }
   },
   "source": [
    "x = 8\n",
    "y = \"eminent\"\n",
    "print(type(x))\n",
    "print(type(y))"
   ],
   "outputs": [
    {
     "name": "stdout",
     "output_type": "stream",
     "text": [
      "<class 'int'>\n",
      "<class 'str'>\n"
     ]
    }
   ],
   "execution_count": 74
  },
  {
   "cell_type": "code",
   "id": "713d84516eff6d9f",
   "metadata": {
    "ExecuteTime": {
     "end_time": "2025-02-26T10:23:45.436549Z",
     "start_time": "2025-02-26T10:23:45.430041Z"
    }
   },
   "source": [
    "x=\"eminent\"\n",
    "# it is same\n",
    "x=\"eminent\"\n"
   ],
   "outputs": [],
   "execution_count": 75
  },
  {
   "cell_type": "code",
   "id": "2f4ca2363b0bd6f",
   "metadata": {
    "ExecuteTime": {
     "end_time": "2025-02-26T10:23:45.492359Z",
     "start_time": "2025-02-26T10:23:45.487375Z"
    }
   },
   "source": [
    "a=4\n",
    "A=\"Selling\"\n",
    "# it not overwrite a\n"
   ],
   "outputs": [],
   "execution_count": 76
  },
  {
   "cell_type": "code",
   "id": "b5c6d4c55e07e1b4",
   "metadata": {
    "ExecuteTime": {
     "end_time": "2025-02-26T10:23:45.523057Z",
     "start_time": "2025-02-26T10:23:45.518013Z"
    }
   },
   "source": [
    "my_var = \"eminent\"\n"
   ],
   "outputs": [],
   "execution_count": 77
  },
  {
   "cell_type": "code",
   "id": "8ca383835c1bd835",
   "metadata": {
    "ExecuteTime": {
     "end_time": "2025-02-26T10:23:45.552498Z",
     "start_time": "2025-02-26T10:23:45.546291Z"
    }
   },
   "source": [
    "myvar3=\"rajkot\"\n",
    "my_var =\"rajkot\"\n",
    "myVar = \"rajkot\"\n",
    "MYVAR = \"rajkot\"\n",
    "myvar2 = \"rajkot\"\n",
    "_my_var = \"rajkot\"\n",
    "\n"
   ],
   "outputs": [],
   "execution_count": 78
  },
  {
   "cell_type": "code",
   "id": "79a9036288d2572f",
   "metadata": {
    "ExecuteTime": {
     "end_time": "2025-02-26T10:23:45.584759Z",
     "start_time": "2025-02-26T10:23:45.578030Z"
    }
   },
   "source": [
    "myvariableName = \"rajkot\"\n"
   ],
   "outputs": [],
   "execution_count": 79
  },
  {
   "cell_type": "code",
   "id": "381e0d9df7a92e5",
   "metadata": {
    "ExecuteTime": {
     "end_time": "2025-02-26T10:23:45.622667Z",
     "start_time": "2025-02-26T10:23:45.613403Z"
    }
   },
   "source": [
    "a,b,c = \"apple\",\"mengo\",\"orange\"\n",
    "print(a)\n",
    "print(b)\n",
    "print(c)"
   ],
   "outputs": [
    {
     "name": "stdout",
     "output_type": "stream",
     "text": [
      "apple\n",
      "mengo\n",
      "orange\n"
     ]
    }
   ],
   "execution_count": 80
  },
  {
   "cell_type": "code",
   "id": "76777c974891bade",
   "metadata": {
    "ExecuteTime": {
     "end_time": "2025-02-26T10:23:45.706775Z",
     "start_time": "2025-02-26T10:23:45.700077Z"
    }
   },
   "source": [
    "x=y=z=\"apple\"\n",
    "print(x)\n",
    "print(y)\n",
    "print(z)"
   ],
   "outputs": [
    {
     "name": "stdout",
     "output_type": "stream",
     "text": [
      "apple\n",
      "apple\n",
      "apple\n"
     ]
    }
   ],
   "execution_count": 81
  },
  {
   "cell_type": "code",
   "id": "369013edb45fd47",
   "metadata": {
    "ExecuteTime": {
     "end_time": "2025-02-26T10:23:45.790840Z",
     "start_time": "2025-02-26T10:23:45.784744Z"
    }
   },
   "source": [
    "fruits = [\"apple\", \"banana\", \"orange\"]\n",
    "x,y,z = fruits\n",
    "print(x)\n",
    "print(y)\n",
    "print(z)\n"
   ],
   "outputs": [
    {
     "name": "stdout",
     "output_type": "stream",
     "text": [
      "apple\n",
      "banana\n",
      "orange\n"
     ]
    }
   ],
   "execution_count": 82
  },
  {
   "cell_type": "code",
   "id": "37ff9ccdaffddad4",
   "metadata": {
    "ExecuteTime": {
     "end_time": "2025-02-26T10:23:45.839194Z",
     "start_time": "2025-02-26T10:23:45.833830Z"
    }
   },
   "source": [
    "x=\"python use\"\n",
    "print(x)"
   ],
   "outputs": [
    {
     "name": "stdout",
     "output_type": "stream",
     "text": [
      "python use\n"
     ]
    }
   ],
   "execution_count": 83
  },
  {
   "cell_type": "code",
   "id": "7eced7f62732ad26",
   "metadata": {
    "ExecuteTime": {
     "end_time": "2025-02-26T10:23:45.917772Z",
     "start_time": "2025-02-26T10:23:45.911959Z"
    }
   },
   "source": [
    "x=\"python\"\n",
    "y=\"is\"\n",
    "z=\"best\"\n",
    "print(x,y,z)\n"
   ],
   "outputs": [
    {
     "name": "stdout",
     "output_type": "stream",
     "text": [
      "python is best\n"
     ]
    }
   ],
   "execution_count": 84
  },
  {
   "cell_type": "code",
   "id": "3e16b50e65cde8c1",
   "metadata": {
    "ExecuteTime": {
     "end_time": "2025-02-26T10:23:45.998633Z",
     "start_time": "2025-02-26T10:23:45.990494Z"
    }
   },
   "source": [
    "x=\"python\"\n",
    "y=\"is\"\n",
    "z=\"best\"\n",
    "print(x+y+z)\n"
   ],
   "outputs": [
    {
     "name": "stdout",
     "output_type": "stream",
     "text": [
      "pythonisbest\n"
     ]
    }
   ],
   "execution_count": 85
  },
  {
   "cell_type": "code",
   "id": "e2c353903e354201",
   "metadata": {
    "ExecuteTime": {
     "end_time": "2025-02-26T10:23:46.043453Z",
     "start_time": "2025-02-26T10:23:46.038582Z"
    }
   },
   "source": [
    "x=3\n",
    "z=0\n",
    "print(x+z)\n"
   ],
   "outputs": [
    {
     "name": "stdout",
     "output_type": "stream",
     "text": [
      "3\n"
     ]
    }
   ],
   "execution_count": 86
  },
  {
   "cell_type": "code",
   "id": "8bf95a4ab008e39c",
   "metadata": {
    "ExecuteTime": {
     "end_time": "2025-02-26T10:23:46.087556Z",
     "start_time": "2025-02-26T10:23:46.080733Z"
    }
   },
   "source": [
    "x=\"rajkot\"\n",
    "z=\"gujrat\"\n",
    "a=\"india\"\n",
    "print(x+z+a)\n"
   ],
   "outputs": [
    {
     "name": "stdout",
     "output_type": "stream",
     "text": [
      "rajkotgujratindia\n"
     ]
    }
   ],
   "execution_count": 87
  },
  {
   "cell_type": "code",
   "id": "693efac69d480ebf",
   "metadata": {
    "ExecuteTime": {
     "end_time": "2025-02-26T10:23:46.121658Z",
     "start_time": "2025-02-26T10:23:46.116653Z"
    }
   },
   "source": [
    "d=90\n",
    "z=10\n",
    "print(d-z)"
   ],
   "outputs": [
    {
     "name": "stdout",
     "output_type": "stream",
     "text": [
      "80\n"
     ]
    }
   ],
   "execution_count": 88
  },
  {
   "cell_type": "code",
   "id": "150537194f04ffbf",
   "metadata": {
    "ExecuteTime": {
     "end_time": "2025-02-26T10:23:46.166960Z",
     "start_time": "2025-02-26T10:23:46.161718Z"
    }
   },
   "source": [
    "t=10\n",
    "s=88\n",
    "print(t,s)\n"
   ],
   "outputs": [
    {
     "name": "stdout",
     "output_type": "stream",
     "text": [
      "10 88\n"
     ]
    }
   ],
   "execution_count": 89
  },
  {
   "cell_type": "code",
   "id": "11196ea3194581da",
   "metadata": {
    "ExecuteTime": {
     "end_time": "2025-02-26T10:23:46.203874Z",
     "start_time": "2025-02-26T10:23:46.197707Z"
    }
   },
   "source": [
    "x=\"print\"\n",
    "z=\"hello\"\n",
    "print(x ,z)\n"
   ],
   "outputs": [
    {
     "name": "stdout",
     "output_type": "stream",
     "text": [
      "print hello\n"
     ]
    }
   ],
   "execution_count": 90
  },
  {
   "cell_type": "code",
   "id": "1b76bd6f40e5ab57",
   "metadata": {
    "ExecuteTime": {
     "end_time": "2025-02-26T10:23:46.267873Z",
     "start_time": "2025-02-26T10:23:46.259665Z"
    }
   },
   "source": [
    "e=\"awesome\"\n",
    "\n",
    "def myfunc():\n",
    "    print(\"hello\"+y)\n",
    "\n",
    "myfunc()"
   ],
   "outputs": [
    {
     "name": "stdout",
     "output_type": "stream",
     "text": [
      "hellois\n"
     ]
    }
   ],
   "execution_count": 91
  },
  {
   "cell_type": "code",
   "id": "b81bb4c45c2af94d",
   "metadata": {
    "ExecuteTime": {
     "end_time": "2025-02-26T10:23:46.330570Z",
     "start_time": "2025-02-26T10:23:46.325283Z"
    }
   },
   "source": [
    "w=\"good\"\n",
    "\n",
    "def myfunc():\n",
    "    print(\"hello\"+w)\n",
    "\n",
    "    myfunc()\n"
   ],
   "outputs": [],
   "execution_count": 92
  },
  {
   "cell_type": "code",
   "id": "2173bdc830673c21",
   "metadata": {
    "ExecuteTime": {
     "end_time": "2025-02-26T10:23:46.364550Z",
     "start_time": "2025-02-26T10:23:46.360611Z"
    }
   },
   "source": [
    "def myfunc():\n",
    "    print(\"hello, this is my custom function!\")\n",
    "    #it is comment\n",
    "    myfunc()\n"
   ],
   "outputs": [],
   "execution_count": 93
  },
  {
   "cell_type": "code",
   "id": "8a9d1e0cc1f5f425",
   "metadata": {
    "ExecuteTime": {
     "end_time": "2025-02-26T10:23:46.395511Z",
     "start_time": "2025-02-26T10:23:46.389988Z"
    }
   },
   "source": [
    "def greet(name):\n",
    "    print(f\"Hello, {name}!\")\n",
    "\n",
    "    greet(\"okay\")\n",
    "    greet(\"nice\")"
   ],
   "outputs": [],
   "execution_count": 94
  },
  {
   "cell_type": "code",
   "id": "dba5c4d48eab6d00",
   "metadata": {
    "ExecuteTime": {
     "end_time": "2025-02-26T10:23:46.427975Z",
     "start_time": "2025-02-26T10:23:46.422806Z"
    }
   },
   "source": [
    "r = \"information\"\n",
    "\n",
    "def myfunc():\n",
    "    print(\"python is\"+r)\n",
    "\n",
    "myfunc()"
   ],
   "outputs": [
    {
     "name": "stdout",
     "output_type": "stream",
     "text": [
      "python isinformation\n"
     ]
    }
   ],
   "execution_count": 95
  },
  {
   "cell_type": "code",
   "id": "35bd98cecac639a9",
   "metadata": {
    "ExecuteTime": {
     "end_time": "2025-02-26T10:23:46.477295Z",
     "start_time": "2025-02-26T10:23:46.470741Z"
    }
   },
   "source": [
    "w=\"instructions\"\n",
    "\n",
    "def myfunc():\n",
    "    w=\"information\"\n",
    "    print(\"python is \" +w)\n",
    "\n",
    "myfunc()\n",
    "print(\"python is \"+w)\n",
    "\n"
   ],
   "outputs": [
    {
     "name": "stdout",
     "output_type": "stream",
     "text": [
      "python is information\n",
      "python is instructions\n"
     ]
    }
   ],
   "execution_count": 96
  },
  {
   "cell_type": "code",
   "id": "72969f6abe5b729b",
   "metadata": {
    "ExecuteTime": {
     "end_time": "2025-02-26T10:23:46.534118Z",
     "start_time": "2025-02-26T10:23:46.528789Z"
    }
   },
   "source": [
    "x=\"nice to meet you\"\n",
    "z=\"it's okay\"\n",
    "\n",
    "def myfunc():\n",
    "    x=\"nice to meet you\"\n",
    "    print(x+z)\n",
    "\n",
    "    myfunc()"
   ],
   "outputs": [],
   "execution_count": 97
  },
  {
   "cell_type": "code",
   "id": "ccc15ff2838f3f73",
   "metadata": {
    "ExecuteTime": {
     "end_time": "2025-02-26T10:23:46.586351Z",
     "start_time": "2025-02-26T10:23:46.579074Z"
    }
   },
   "source": [
    "def myfunc():\n",
    "    global x\n",
    "    x = \"fentasic\"\n",
    "\n",
    "myfunc()\n",
    "\n",
    "print(x)"
   ],
   "outputs": [
    {
     "name": "stdout",
     "output_type": "stream",
     "text": [
      "fentasic\n"
     ]
    }
   ],
   "execution_count": 98
  },
  {
   "cell_type": "code",
   "id": "515f09264a65a33a",
   "metadata": {
    "ExecuteTime": {
     "end_time": "2025-02-26T10:23:46.637518Z",
     "start_time": "2025-02-26T10:23:46.632956Z"
    }
   },
   "source": [
    "def myfunc():\n",
    "    global y\n",
    "    y = \"welcome\"\n",
    "\n",
    "myfunc()\n",
    "print(y)"
   ],
   "outputs": [
    {
     "name": "stdout",
     "output_type": "stream",
     "text": [
      "welcome\n"
     ]
    }
   ],
   "execution_count": 99
  },
  {
   "cell_type": "code",
   "id": "81dd9b542978e020",
   "metadata": {
    "ExecuteTime": {
     "end_time": "2025-02-26T10:23:46.705336Z",
     "start_time": "2025-02-26T10:23:46.700575Z"
    }
   },
   "source": [
    "v=\"awsome\"\n",
    "def myfunc():\n",
    "    global v\n",
    "    v=\"awsome\"\n",
    "myfunc()\n",
    "print(v)"
   ],
   "outputs": [
    {
     "name": "stdout",
     "output_type": "stream",
     "text": [
      "awsome\n"
     ]
    }
   ],
   "execution_count": 100
  },
  {
   "cell_type": "code",
   "id": "8a527da0a70dc025",
   "metadata": {
    "ExecuteTime": {
     "end_time": "2025-02-26T10:23:46.777802Z",
     "start_time": "2025-02-26T10:23:46.772582Z"
    }
   },
   "source": [
    "t=\"global\"\n",
    "def myfunc():\n",
    "    global t\n",
    "    t=\"global\"\n",
    "myfunc()\n",
    "print(t)"
   ],
   "outputs": [
    {
     "name": "stdout",
     "output_type": "stream",
     "text": [
      "global\n"
     ]
    }
   ],
   "execution_count": 101
  },
  {
   "cell_type": "code",
   "id": "47fdca310ee9a191",
   "metadata": {
    "ExecuteTime": {
     "end_time": "2025-02-26T10:23:46.824987Z",
     "start_time": "2025-02-26T10:23:46.820733Z"
    }
   },
   "source": [
    "R=\"python devlopment\"\n",
    "def myfunc():\n",
    "    global R\n",
    "    R=\"python devlopment\"\n",
    "    myfunc()\n",
    "    print(R)\n",
    "\n"
   ],
   "outputs": [],
   "execution_count": 102
  },
  {
   "cell_type": "code",
   "id": "b067f71cdbd3c07e",
   "metadata": {
    "ExecuteTime": {
     "end_time": "2025-02-26T10:23:46.846403Z",
     "start_time": "2025-02-26T10:23:46.841857Z"
    }
   },
   "source": [
    "f=\"fruit\"\n",
    "def func():\n",
    "    global f\n",
    "    myfunc()\n",
    "    print(f)"
   ],
   "outputs": [],
   "execution_count": 103
  },
  {
   "cell_type": "code",
   "id": "90aed51f5c206353",
   "metadata": {
    "ExecuteTime": {
     "end_time": "2025-02-26T10:23:46.872586Z",
     "start_time": "2025-02-26T10:23:46.867621Z"
    }
   },
   "source": [
    "x = 'awsome'\n",
    "def myfunc():\n",
    "    x='fantastic'\n",
    "myfunc()\n",
    "print('python is '+x)"
   ],
   "outputs": [
    {
     "name": "stdout",
     "output_type": "stream",
     "text": [
      "python is awsome\n"
     ]
    }
   ],
   "execution_count": 104
  },
  {
   "cell_type": "code",
   "id": "2da6a8a92b59fb77",
   "metadata": {
    "ExecuteTime": {
     "end_time": "2025-02-26T10:23:46.920196Z",
     "start_time": "2025-02-26T10:23:46.911695Z"
    }
   },
   "source": [
    "print('hello','world')"
   ],
   "outputs": [
    {
     "name": "stdout",
     "output_type": "stream",
     "text": [
      "hello world\n"
     ]
    }
   ],
   "execution_count": 105
  },
  {
   "cell_type": "code",
   "id": "72bd52795ad8d0b2",
   "metadata": {
    "ExecuteTime": {
     "end_time": "2025-02-26T10:23:46.959355Z",
     "start_time": "2025-02-26T10:23:46.953506Z"
    }
   },
   "source": [
    "a=\"hello\"\n",
    "b=\"world\"\n",
    "print(a+b)"
   ],
   "outputs": [
    {
     "name": "stdout",
     "output_type": "stream",
     "text": [
      "helloworld\n"
     ]
    }
   ],
   "execution_count": 106
  },
  {
   "cell_type": "code",
   "id": "4de46c82b1cc88e3",
   "metadata": {
    "ExecuteTime": {
     "end_time": "2025-02-26T10:23:47.019910Z",
     "start_time": "2025-02-26T10:23:47.015214Z"
    }
   },
   "source": [
    "def myfunc():\n",
    "    global a\n",
    "    a= \"nice\""
   ],
   "outputs": [],
   "execution_count": 107
  },
  {
   "cell_type": "code",
   "id": "2c9d45b2eaec6",
   "metadata": {
    "ExecuteTime": {
     "end_time": "2025-02-26T10:23:47.053045Z",
     "start_time": "2025-02-26T10:23:47.045866Z"
    }
   },
   "source": [
    "x=\"awsome\"\n",
    "def myfunc():\n",
    "    global x\n",
    "    x = \"it's okay\"\n",
    "myfunc()\n",
    "print(\"pyhton is \"+x)"
   ],
   "outputs": [
    {
     "name": "stdout",
     "output_type": "stream",
     "text": [
      "pyhton is it's okay\n"
     ]
    }
   ],
   "execution_count": 108
  },
  {
   "cell_type": "code",
   "id": "24c81306d1c875fa",
   "metadata": {
    "ExecuteTime": {
     "end_time": "2025-02-26T10:23:47.121465Z",
     "start_time": "2025-02-26T10:23:47.116089Z"
    }
   },
   "source": [
    "v=\"good\"\n",
    "def myfunc():\n",
    "    global v\n",
    "    v=\"good\"\n",
    "myfunc()\n",
    "print('that is '+v)"
   ],
   "outputs": [
    {
     "name": "stdout",
     "output_type": "stream",
     "text": [
      "that is good\n"
     ]
    }
   ],
   "execution_count": 109
  },
  {
   "cell_type": "code",
   "id": "7eaac7f364011cad",
   "metadata": {
    "ExecuteTime": {
     "end_time": "2025-02-26T10:23:47.162187Z",
     "start_time": "2025-02-26T10:23:47.155871Z"
    }
   },
   "source": [
    "def myfunc():\n",
    "    global c\n",
    "    c = \"you are user\"\n",
    "\n",
    "myfunc()\n",
    "print(c)"
   ],
   "outputs": [
    {
     "name": "stdout",
     "output_type": "stream",
     "text": [
      "you are user\n"
     ]
    }
   ],
   "execution_count": 110
  },
  {
   "metadata": {
    "ExecuteTime": {
     "end_time": "2025-02-26T10:23:47.227175Z",
     "start_time": "2025-02-26T10:23:47.221401Z"
    }
   },
   "cell_type": "code",
   "source": [
    "thislist = [\"apple\",\"mango\"]\n",
    "for v in thislist:\n",
    "    print(v)\n"
   ],
   "id": "8532684d1afd8cc",
   "outputs": [
    {
     "name": "stdout",
     "output_type": "stream",
     "text": [
      "apple\n",
      "mango\n"
     ]
    }
   ],
   "execution_count": 111
  },
  {
   "metadata": {
    "ExecuteTime": {
     "end_time": "2025-02-26T10:23:47.286099Z",
     "start_time": "2025-02-26T10:23:47.280011Z"
    }
   },
   "cell_type": "code",
   "source": [
    "thislist = [\"apple\",\"mango\",\"banana\",\"painapple\",\"grapes\"]\n",
    "for v in thislist:\n",
    "    print(v)"
   ],
   "id": "16b0f12f9b8a5cc",
   "outputs": [
    {
     "name": "stdout",
     "output_type": "stream",
     "text": [
      "apple\n",
      "mango\n",
      "banana\n",
      "painapple\n",
      "grapes\n"
     ]
    }
   ],
   "execution_count": 112
  },
  {
   "metadata": {
    "ExecuteTime": {
     "end_time": "2025-02-26T10:23:47.336834Z",
     "start_time": "2025-02-26T10:23:47.330045Z"
    }
   },
   "cell_type": "code",
   "source": [
    "thislist = [\"car\",\"truck\",\"bus\",\"bike\",\"plane\",\"helicopter\"]\n",
    "for x in thislist:\n",
    "    print(x)"
   ],
   "id": "724742cedfa8c557",
   "outputs": [
    {
     "name": "stdout",
     "output_type": "stream",
     "text": [
      "car\n",
      "truck\n",
      "bus\n",
      "bike\n",
      "plane\n",
      "helicopter\n"
     ]
    }
   ],
   "execution_count": 113
  },
  {
   "metadata": {
    "ExecuteTime": {
     "end_time": "2025-02-26T10:23:47.392425Z",
     "start_time": "2025-02-26T10:23:47.385918Z"
    }
   },
   "cell_type": "code",
   "source": [
    "thislist = [\"car\",\"truck\",\"bus\",\"bike\",\"plane\",\"helicopter\"]\n",
    "for c in range(len(thislist)):\n",
    "    print(thislist[c])"
   ],
   "id": "76a72db886818d54",
   "outputs": [
    {
     "name": "stdout",
     "output_type": "stream",
     "text": [
      "car\n",
      "truck\n",
      "bus\n",
      "bike\n",
      "plane\n",
      "helicopter\n"
     ]
    }
   ],
   "execution_count": 114
  },
  {
   "metadata": {
    "ExecuteTime": {
     "end_time": "2025-02-26T10:23:47.453032Z",
     "start_time": "2025-02-26T10:23:47.447762Z"
    }
   },
   "cell_type": "code",
   "source": [
    "thislist = [\"truck\",\"bus\",\"plane\",\"helicopter\"]\n",
    "for t in range (len(thislist)):\n",
    "    print(thislist[t])"
   ],
   "id": "8c00e7700127082",
   "outputs": [
    {
     "name": "stdout",
     "output_type": "stream",
     "text": [
      "truck\n",
      "bus\n",
      "plane\n",
      "helicopter\n"
     ]
    }
   ],
   "execution_count": 115
  },
  {
   "metadata": {
    "ExecuteTime": {
     "end_time": "2025-02-26T10:23:47.513245Z",
     "start_time": "2025-02-26T10:23:47.507771Z"
    }
   },
   "cell_type": "code",
   "source": [
    "thislist = [\"apple\",\"mango\",\"banana\",\"painapple\",\"grapes\"]\n",
    "o = 0\n",
    "while o < len(thislist):\n",
    "    print(thislist[o])\n",
    "    o = o + 1"
   ],
   "id": "240c67fcdabba7ab",
   "outputs": [
    {
     "name": "stdout",
     "output_type": "stream",
     "text": [
      "apple\n",
      "mango\n",
      "banana\n",
      "painapple\n",
      "grapes\n"
     ]
    }
   ],
   "execution_count": 116
  },
  {
   "metadata": {
    "ExecuteTime": {
     "end_time": "2025-02-26T10:23:47.641032Z",
     "start_time": "2025-02-26T10:23:47.584262Z"
    }
   },
   "cell_type": "code",
   "source": [
    "this = [\"apple\",\"samsung\",\"vivo\",\"redmi\",\"oneplus\",\"realme\",\"oppo\",\"lenovo\"]\n",
    "\n",
    "l = 2\n",
    "while c in range(len(this)):            # that in a print to started with that perticular index\n",
    "    print(this[l])\n",
    "    l = l+1\n"
   ],
   "id": "31ac59b8ed7baa93",
   "outputs": [
    {
     "name": "stdout",
     "output_type": "stream",
     "text": [
      "vivo\n",
      "redmi\n",
      "oneplus\n",
      "realme\n",
      "oppo\n",
      "lenovo\n"
     ]
    },
    {
     "ename": "IndexError",
     "evalue": "list index out of range",
     "output_type": "error",
     "traceback": [
      "\u001B[1;31m---------------------------------------------------------------------------\u001B[0m",
      "\u001B[1;31mIndexError\u001B[0m                                Traceback (most recent call last)",
      "Cell \u001B[1;32mIn[117], line 5\u001B[0m\n\u001B[0;32m      3\u001B[0m l \u001B[38;5;241m=\u001B[39m \u001B[38;5;241m2\u001B[39m\n\u001B[0;32m      4\u001B[0m \u001B[38;5;28;01mwhile\u001B[39;00m c \u001B[38;5;129;01min\u001B[39;00m \u001B[38;5;28mrange\u001B[39m(\u001B[38;5;28mlen\u001B[39m(this)):            \u001B[38;5;66;03m# that in a print to started with that perticular index\u001B[39;00m\n\u001B[1;32m----> 5\u001B[0m     \u001B[38;5;28mprint\u001B[39m(\u001B[43mthis\u001B[49m\u001B[43m[\u001B[49m\u001B[43ml\u001B[49m\u001B[43m]\u001B[49m)\n\u001B[0;32m      6\u001B[0m     l \u001B[38;5;241m=\u001B[39m l\u001B[38;5;241m+\u001B[39m\u001B[38;5;241m1\u001B[39m\n",
      "\u001B[1;31mIndexError\u001B[0m: list index out of range"
     ]
    }
   ],
   "execution_count": 117
  },
  {
   "metadata": {
    "ExecuteTime": {
     "end_time": "2025-02-26T10:23:47.640958100Z",
     "start_time": "2025-02-24T10:37:14.265470Z"
    }
   },
   "cell_type": "code",
   "source": [
    "thatlist = [\"apple\",\"mango\",\"banana\",\"painapple\",\"grapes\"]\n",
    "\n",
    "p = 3                              # start index to 3 print after all string\n",
    "while p < len(thislist):\n",
    "    print(thislist[p])\n",
    "    p = p + 1"
   ],
   "id": "615095c07251070c",
   "outputs": [
    {
     "name": "stdout",
     "output_type": "stream",
     "text": [
      "painapple\n",
      "grapes\n"
     ]
    }
   ],
   "execution_count": 106
  },
  {
   "metadata": {
    "ExecuteTime": {
     "end_time": "2025-02-26T10:23:47.640958100Z",
     "start_time": "2025-02-24T10:41:34.571931Z"
    }
   },
   "cell_type": "code",
   "source": [
    "thislist = [\"apple\",\"mango\",\"banana\",\"painapple\",\"grapes\"]\n",
    "[print(x) for x in thislist]    # that is used to looping items in list"
   ],
   "id": "f2b303b020c16eb8",
   "outputs": [
    {
     "name": "stdout",
     "output_type": "stream",
     "text": [
      "apple\n",
      "mango\n",
      "banana\n",
      "painapple\n",
      "grapes\n"
     ]
    },
    {
     "data": {
      "text/plain": [
       "[None, None, None, None, None]"
      ]
     },
     "execution_count": 111,
     "metadata": {},
     "output_type": "execute_result"
    }
   ],
   "execution_count": 111
  },
  {
   "metadata": {
    "ExecuteTime": {
     "end_time": "2025-02-26T10:23:47.640958100Z",
     "start_time": "2025-02-24T10:47:28.405673Z"
    }
   },
   "cell_type": "code",
   "source": [
    "thislist = [\"apple\",\"samsung\",\"tesla\",\"blackrock\",\"bank\",\"wallmart\"]\n",
    "                        # give output as a list\n",
    "[print(k) for k in thislist]"
   ],
   "id": "8779d388201ffdfd",
   "outputs": [
    {
     "name": "stdout",
     "output_type": "stream",
     "text": [
      "apple\n",
      "samsung\n",
      "tesla\n",
      "blackrock\n",
      "bank\n",
      "wallmart\n"
     ]
    },
    {
     "data": {
      "text/plain": [
       "[None, None, None, None, None, None]"
      ]
     },
     "execution_count": 121,
     "metadata": {},
     "output_type": "execute_result"
    }
   ],
   "execution_count": 121
  },
  {
   "metadata": {
    "ExecuteTime": {
     "end_time": "2025-02-26T10:23:47.640958100Z",
     "start_time": "2025-02-24T10:50:08.626463Z"
    }
   },
   "cell_type": "code",
   "source": [
    "thislist = [\"apple\",\"microsoft\",\"google\",\"meta\",\"chatgpt\",\"nvidia\"]\n",
    "[print(y) for y in thislist]"
   ],
   "id": "b077ba57a244194",
   "outputs": [
    {
     "name": "stdout",
     "output_type": "stream",
     "text": [
      "apple\n",
      "microsoft\n",
      "google\n",
      "meta\n",
      "chatgpt\n",
      "nvidia\n"
     ]
    },
    {
     "data": {
      "text/plain": [
       "[None, None, None, None, None, None]"
      ]
     },
     "execution_count": 125,
     "metadata": {},
     "output_type": "execute_result"
    }
   ],
   "execution_count": 125
  },
  {
   "metadata": {
    "ExecuteTime": {
     "end_time": "2025-02-26T10:23:47.658248800Z",
     "start_time": "2025-02-24T11:16:49.863537Z"
    }
   },
   "cell_type": "code",
   "source": [
    "fruits = [\"apple\", \"banana\",\"orange\",\"lemon\"]\n",
    "newlist = []\n",
    "\n",
    "for g in fruits:\n",
    "    if \"a\" in g:\n",
    "        newlist.append(g)\n",
    "\n",
    "    print(newlist)"
   ],
   "id": "ccb4d0ecfe72e6b9",
   "outputs": [
    {
     "name": "stdout",
     "output_type": "stream",
     "text": [
      "['apple']\n",
      "['apple', 'banana']\n",
      "['apple', 'banana', 'orange']\n",
      "['apple', 'banana', 'orange']\n"
     ]
    }
   ],
   "execution_count": 5
  },
  {
   "metadata": {
    "ExecuteTime": {
     "end_time": "2025-02-26T10:23:47.687433400Z",
     "start_time": "2025-02-24T11:38:06.278622Z"
    }
   },
   "cell_type": "code",
   "source": [
    "vahicals = [\"car\",\"bike\",\"plane\",\"helicopter\"]\n",
    "newlist = []\n",
    "\n",
    "for h in vahicals:\n",
    "    if \"x\" in h:\n",
    "        newlist.append(h)\n",
    "    print(vahicals)"
   ],
   "id": "15cc8669ba981b51",
   "outputs": [
    {
     "name": "stdout",
     "output_type": "stream",
     "text": [
      "['car', 'bike', 'plane', 'helicopter']\n",
      "['car', 'bike', 'plane', 'helicopter']\n",
      "['car', 'bike', 'plane', 'helicopter']\n",
      "['car', 'bike', 'plane', 'helicopter']\n"
     ]
    }
   ],
   "execution_count": 8
  },
  {
   "metadata": {},
   "cell_type": "code",
   "outputs": [],
   "execution_count": null,
   "source": "\n",
   "id": "b0d0ebe5bd85cee6"
  },
  {
   "metadata": {
    "ExecuteTime": {
     "end_time": "2025-02-26T10:23:47.703221500Z",
     "start_time": "2025-02-24T12:29:12.339786Z"
    }
   },
   "cell_type": "code",
   "source": [
    "property = [\"home\",\"car\",\"investment\",\"insurance\",\"office\"]\n",
    "newlist = []\n",
    "\n",
    "for t in property:      # show all item using newlist\n",
    "    if \"g\" in t:\n",
    "        newlist.append(t)\n",
    "print(property)"
   ],
   "id": "2819c77218463d1b",
   "outputs": [
    {
     "name": "stdout",
     "output_type": "stream",
     "text": [
      "['home', 'car', 'investment', 'insurance', 'office']\n"
     ]
    }
   ],
   "execution_count": 43
  },
  {
   "metadata": {
    "ExecuteTime": {
     "end_time": "2025-02-26T10:23:47.703221500Z",
     "start_time": "2025-02-24T12:26:30.813012Z"
    }
   },
   "cell_type": "code",
   "source": [
    "color = [\"red\",\"blue\",\"green\",\"yellow\",\"orange\"]\n",
    "newlist = []\n",
    "\n",
    "for t in color:\n",
    "     if \"g\" in t:\n",
    "        newlist.append(t)\n",
    "print(color)"
   ],
   "id": "3af55ae777966736",
   "outputs": [
    {
     "name": "stdout",
     "output_type": "stream",
     "text": [
      "['red', 'blue', 'green', 'yellow', 'orange']\n"
     ]
    }
   ],
   "execution_count": 41
  },
  {
   "metadata": {
    "ExecuteTime": {
     "end_time": "2025-02-26T10:23:47.703221500Z",
     "start_time": "2025-02-24T12:27:04.441472Z"
    }
   },
   "cell_type": "code",
   "source": [
    "truck = [\"people\",\"itam\",\"fruits\",\"vegetables\",\"meat\"]\n",
    "newlist = []\n",
    "\n",
    "for j in truck:\n",
    "    if \"o\" in j:\n",
    "        newlist.append(j)\n",
    "        print(truck)\n"
   ],
   "id": "61529e1d59476481",
   "outputs": [
    {
     "name": "stdout",
     "output_type": "stream",
     "text": [
      "['people', 'itam', 'fruits', 'vegetables', 'meat']\n"
     ]
    }
   ],
   "execution_count": 42
  },
  {
   "metadata": {
    "ExecuteTime": {
     "end_time": "2025-02-26T10:23:47.703221500Z",
     "start_time": "2025-02-24T12:43:24.671731Z"
    }
   },
   "cell_type": "code",
   "source": [
    "thislist = [\"apple\",\"mango\",\"banana\",\"painapple\",\"grapes\"]\n",
    "newlist = []\n",
    "\n",
    "for t in thislist:\n",
    "     if \"y\" in t:\n",
    "         newlist.append(t)\n",
    "         print(newlist)"
   ],
   "id": "1e4f5da07ee88201",
   "outputs": [],
   "execution_count": 72
  },
  {
   "metadata": {
    "ExecuteTime": {
     "end_time": "2025-02-26T10:23:47.703221500Z",
     "start_time": "2025-02-24T12:43:14.102338Z"
    }
   },
   "cell_type": "code",
   "source": [
    "thislist = [\"apple\",\"mango\",\"banana\",\"painapple\",\"grapes\"]\n",
    "\n",
    "newlist = [a for a in thislist if \"x\" in a]\n",
    "\n",
    "print(thislist)"
   ],
   "id": "c69e12e45f26d27",
   "outputs": [
    {
     "name": "stdout",
     "output_type": "stream",
     "text": [
      "['apple', 'mango', 'banana', 'painapple', 'grapes']\n"
     ]
    }
   ],
   "execution_count": 62
  },
  {
   "metadata": {
    "ExecuteTime": {
     "end_time": "2025-02-26T10:23:47.703221500Z",
     "start_time": "2025-02-25T09:08:45.061905Z"
    }
   },
   "cell_type": "code",
   "source": [
    "goods = [\"glass\",\"plastic\",\"paper\",\"metal\",\"wood\"]\n",
    "newlist = [x for x in goods if \"s\" in x]\n",
    "print(goods)\n",
    "\n"
   ],
   "id": "52dac645deaffac7",
   "outputs": [
    {
     "name": "stdout",
     "output_type": "stream",
     "text": [
      "['glass', 'plastic', 'paper', 'metal', 'wood']\n"
     ]
    }
   ],
   "execution_count": 3
  },
  {
   "metadata": {
    "ExecuteTime": {
     "end_time": "2025-02-26T10:23:47.703221500Z",
     "start_time": "2025-02-24T13:41:52.597829Z"
    }
   },
   "cell_type": "code",
   "source": [
    "city = [\"rajkot\",\"surat\",\"jamnagar\",\"morbi\"]\n",
    "                    # in string identify give chrecter to output\n",
    "newcity = [c for c in city if \"r\" in c]\n",
    "print(newcity)"
   ],
   "id": "85917769acc4d9d8",
   "outputs": [
    {
     "name": "stdout",
     "output_type": "stream",
     "text": [
      "['rajkot', 'surat', 'jamnagar', 'morbi']\n"
     ]
    }
   ],
   "execution_count": 84
  },
  {
   "metadata": {
    "ExecuteTime": {
     "end_time": "2025-02-26T10:23:47.703221500Z",
     "start_time": "2025-02-25T09:09:26.140807Z"
    }
   },
   "cell_type": "code",
   "source": [
    "fruits = [\"apple\",\"mango\",\"banana\",\"painapple\",\"grapes\"]\n",
    "\n",
    "newlist = [n for n in fruits if x\" != \"apple\"]\n",
    "\n",
    "print(fruits)"
   ],
   "id": "a92a8f2c4ba68667",
   "outputs": [
    {
     "name": "stdout",
     "output_type": "stream",
     "text": [
      "['apple', 'mango', 'banana', 'painapple', 'grapes']\n"
     ]
    }
   ],
   "execution_count": 5
  },
  {
   "metadata": {
    "ExecuteTime": {
     "end_time": "2025-02-26T10:23:47.703221500Z",
     "start_time": "2025-02-25T09:16:57.229977Z"
    }
   },
   "cell_type": "code",
   "source": [
    "goods = [\"glass\",\"plastic\",\"paper\",\"metal\",\"wood\"]\n",
    "\n",
    "newlist = [v for v in goods if \"p\" in v]\n",
    "\n",
    "print(newlist)"
   ],
   "id": "a6dd013be74ef0d1",
   "outputs": [
    {
     "name": "stdout",
     "output_type": "stream",
     "text": [
      "['plastic', 'paper']\n"
     ]
    }
   ],
   "execution_count": 12
  },
  {
   "metadata": {
    "ExecuteTime": {
     "end_time": "2025-02-26T10:23:47.703221500Z",
     "start_time": "2025-02-25T09:18:13.010619Z"
    }
   },
   "cell_type": "code",
   "source": [
    "iteams = [\"car\",\"bike\",\"plane\",\"helicopter\"]\n",
    "\n",
    "newlist = [f for f in iteams if \"e\" in f]\n",
    "\n",
    "print(newlist)"
   ],
   "id": "fdc69f5be5d53a55",
   "outputs": [
    {
     "name": "stdout",
     "output_type": "stream",
     "text": [
      "['bike', 'plane', 'helicopter']\n"
     ]
    }
   ],
   "execution_count": 14
  },
  {
   "metadata": {
    "ExecuteTime": {
     "end_time": "2025-02-26T10:23:47.703221500Z",
     "start_time": "2025-02-25T09:21:53.106761Z"
    }
   },
   "cell_type": "code",
   "source": [
    "iteams = [\"metal\",\"plastic\",\"glass\",\"wood\",\"paper\"]\n",
    "newlist = [z for z in iteams if z != \"True\"]\n",
    "print(newlist)"
   ],
   "id": "bfbfe22803239b1d",
   "outputs": [
    {
     "name": "stdout",
     "output_type": "stream",
     "text": [
      "['metal', 'plastic', 'glass', 'wood', 'paper']\n"
     ]
    }
   ],
   "execution_count": 22
  },
  {
   "metadata": {
    "ExecuteTime": {
     "end_time": "2025-02-26T10:23:47.703221500Z",
     "start_time": "2025-02-25T09:27:44.422335Z"
    }
   },
   "cell_type": "code",
   "source": [
    "fruits = [\"apple\",\"mango\",\"banana\",\"painapple\",\"grapes\"]\n",
    "newlist = [c for c in fruits if c != \"True\"]\n",
    "print(fruits)"
   ],
   "id": "271383d018f05415",
   "outputs": [
    {
     "name": "stdout",
     "output_type": "stream",
     "text": [
      "['apple', 'mango', 'banana', 'painapple', 'grapes']\n"
     ]
    }
   ],
   "execution_count": 28
  },
  {
   "metadata": {
    "ExecuteTime": {
     "end_time": "2025-02-26T10:23:47.703221500Z",
     "start_time": "2025-02-25T09:32:15.551329Z"
    }
   },
   "cell_type": "code",
   "source": [
    "showroom = [\"Audi\",\"RR\",\"Mercedes\",\"BMW\",\"Toyota\"]\n",
    "newroom = [s for s in showroom if s != \"Toyota\"]\n",
    "print(newroom)"
   ],
   "id": "83f154cf10ebd323",
   "outputs": [
    {
     "name": "stdout",
     "output_type": "stream",
     "text": [
      "['Audi', 'RR', 'Mercedes', 'BMW']\n"
     ]
    }
   ],
   "execution_count": 34
  },
  {
   "metadata": {
    "ExecuteTime": {
     "end_time": "2025-02-26T10:23:47.703221500Z",
     "start_time": "2025-02-25T09:33:40.323228Z"
    }
   },
   "cell_type": "code",
   "source": [
    "thislist = [\"apple\",\"mango\",\"banana\",\"painapple\",\"grapes\"]\n",
    "newlist = [d for d in thislist if d != \"banana\"]\n",
    "print(newlist)"
   ],
   "id": "591fca01fa697b1",
   "outputs": [
    {
     "name": "stdout",
     "output_type": "stream",
     "text": [
      "['apple', 'mango', 'painapple', 'grapes']\n"
     ]
    }
   ],
   "execution_count": 35
  },
  {
   "metadata": {
    "ExecuteTime": {
     "end_time": "2025-02-26T10:23:47.703221500Z",
     "start_time": "2025-02-25T09:38:09.681161Z"
    }
   },
   "cell_type": "code",
   "source": [
    "thislist = [\"apple\",\"mango\",\"banana\",\"painapple\",\"grapes\"]\n",
    "newlist = [t for t in thislist if t != \"painapple\"]\n",
    "print(newlist)                                                    # new list ma notequal to (!=) kareli string ny aave"
   ],
   "id": "e5ad9fc0c64b51f3",
   "outputs": [
    {
     "name": "stdout",
     "output_type": "stream",
     "text": [
      "['apple', 'mango', 'banana', 'grapes']\n"
     ]
    }
   ],
   "execution_count": 38
  },
  {
   "metadata": {
    "ExecuteTime": {
     "end_time": "2025-02-26T10:23:47.703221500Z",
     "start_time": "2025-02-25T09:42:29.997470Z"
    }
   },
   "cell_type": "code",
   "source": [
    "newlist = [x for x in range(10)]\n",
    "print(newlist)"
   ],
   "id": "aa25bfe595b74890",
   "outputs": [
    {
     "name": "stdout",
     "output_type": "stream",
     "text": [
      "[0, 1, 2, 3, 4, 5, 6, 7, 8, 9]\n"
     ]
    }
   ],
   "execution_count": 48
  },
  {
   "metadata": {
    "ExecuteTime": {
     "end_time": "2025-02-26T10:23:47.703221500Z",
     "start_time": "2025-02-25T09:43:50.316429Z"
    }
   },
   "cell_type": "code",
   "source": [
    "newlist = [x for x in range(10) if x < 17]\n",
    "print(newlist)          # jo condition ni nichena koi number mde to tema aapela range sudhi te print thse"
   ],
   "id": "c45b43232ce0d0f2",
   "outputs": [
    {
     "name": "stdout",
     "output_type": "stream",
     "text": [
      "[0, 1, 2, 3, 4, 5, 6, 7, 8, 9]\n"
     ]
    }
   ],
   "execution_count": 51
  },
  {
   "metadata": {
    "ExecuteTime": {
     "end_time": "2025-02-26T10:23:47.703221500Z",
     "start_time": "2025-02-25T09:45:59.751578Z"
    }
   },
   "cell_type": "code",
   "source": [
    "fruits = [\"Dragonfruit\",\"kiwi\",\"watermelon\",\"lemon\",\"coconut\"]\n",
    "newlist = [x.upper() for x in fruits]\n",
    "print(newlist)"
   ],
   "id": "23a8cce894c0039f",
   "outputs": [
    {
     "name": "stdout",
     "output_type": "stream",
     "text": [
      "['APPLE', 'MANGO', 'BANANA', 'PAINAPPLE', 'GRAPES']\n"
     ]
    }
   ],
   "execution_count": 52
  },
  {
   "metadata": {
    "ExecuteTime": {
     "end_time": "2025-02-26T10:23:47.703221500Z",
     "start_time": "2025-02-25T09:47:05.617888Z"
    }
   },
   "cell_type": "code",
   "source": [
    "newlist = [g.upper() for g in iteams]\n",
    "print(newlist)"
   ],
   "id": "d8a718883a02efd0",
   "outputs": [
    {
     "name": "stdout",
     "output_type": "stream",
     "text": [
      "['METAL', 'PLASTIC', 'GLASS', 'WOOD', 'PAPER']\n"
     ]
    }
   ],
   "execution_count": 53
  },
  {
   "metadata": {
    "ExecuteTime": {
     "end_time": "2025-02-26T10:23:47.703221500Z",
     "start_time": "2025-02-25T09:50:19.771437Z"
    }
   },
   "cell_type": "code",
   "source": [
    "department = [\"science\",\"humanities\",\"social sciences\"]\n",
    "newlist = ['hello' for x in department]\n",
    "print(newlist)                                    # replace value in new list"
   ],
   "id": "ac5df1a6e005523",
   "outputs": [
    {
     "name": "stdout",
     "output_type": "stream",
     "text": [
      "['hello', 'hello', 'hello']\n"
     ]
    }
   ],
   "execution_count": 58
  },
  {
   "metadata": {
    "ExecuteTime": {
     "end_time": "2025-02-26T10:23:47.703221500Z",
     "start_time": "2025-02-25T09:56:47.963134Z"
    }
   },
   "cell_type": "code",
   "source": [
    "fruits = [\"Dragonfruit\",\"kiwi\",\"watermelon\",\"lemon\",\"coconut\"]\n",
    "\n",
    "newlist = [s if s != \"watermelon\" else \"mango\" for s in fruits]\n",
    "\n",
    "print(newlist)"
   ],
   "id": "b2294cce7dfd4482",
   "outputs": [
    {
     "name": "stdout",
     "output_type": "stream",
     "text": [
      "['Dragonfruit', 'kiwi', 'mango', 'lemon', 'coconut']\n"
     ]
    }
   ],
   "execution_count": 65
  },
  {
   "metadata": {
    "ExecuteTime": {
     "end_time": "2025-02-26T10:23:47.703221500Z",
     "start_time": "2025-02-25T10:07:20.687884Z"
    }
   },
   "cell_type": "code",
   "source": [
    "newlist = [x if x != \"watermelon\" else \"apple\" for x in fruits]\n",
    "print(newlist)     #  using condition change string in list"
   ],
   "id": "75ac1d27fe5d4cc5",
   "outputs": [
    {
     "name": "stdout",
     "output_type": "stream",
     "text": [
      "['Dragonfruit', 'kiwi', 'apple', 'lemon', 'coconut']\n"
     ]
    }
   ],
   "execution_count": 68
  },
  {
   "metadata": {
    "ExecuteTime": {
     "end_time": "2025-02-26T10:23:47.719085600Z",
     "start_time": "2025-02-25T10:10:26.369535Z"
    }
   },
   "cell_type": "code",
   "source": [
    "newlist = [v if v != \"lemon\" else \"banana\" for v in fruits]\n",
    "print(newlist)"
   ],
   "id": "c5d75b2f3cf9abd0",
   "outputs": [
    {
     "name": "stdout",
     "output_type": "stream",
     "text": [
      "['Dragonfruit', 'kiwi', 'watermelon', 'banana', 'coconut']\n"
     ]
    }
   ],
   "execution_count": 71
  },
  {
   "metadata": {
    "ExecuteTime": {
     "end_time": "2025-02-26T10:23:47.719085600Z",
     "start_time": "2025-02-25T10:14:30.100990Z"
    }
   },
   "cell_type": "code",
   "source": [
    "fruits = ['apple','apple','apple']\n",
    "newlist = ['apple' for x in fruits]\n",
    "print(newlist)"
   ],
   "id": "584a86d12830e10d",
   "outputs": [
    {
     "name": "stdout",
     "output_type": "stream",
     "text": [
      "['apple', 'apple', 'apple']\n"
     ]
    }
   ],
   "execution_count": 73
  },
  {
   "metadata": {
    "ExecuteTime": {
     "end_time": "2025-02-26T10:23:47.719085600Z",
     "start_time": "2025-02-25T10:17:25.997034Z"
    }
   },
   "cell_type": "code",
   "source": [
    "thislist = [\"apple\",\"banana\",\"orange\",\"mango\"]\n",
    "thislist.sort()       # alphabat wise gothvse\n",
    "print(thislist)"
   ],
   "id": "3d62808ec5fbe563",
   "outputs": [
    {
     "name": "stdout",
     "output_type": "stream",
     "text": [
      "['apple', 'banana', 'mango', 'orange']\n"
     ]
    }
   ],
   "execution_count": 76
  },
  {
   "metadata": {
    "ExecuteTime": {
     "end_time": "2025-02-26T10:23:47.719085600Z",
     "start_time": "2025-02-25T10:22:04.548018Z"
    }
   },
   "cell_type": "code",
   "source": [
    "thisline = [\"aeroplan\",\"helicopter\",\"car\",\"bike\"]\n",
    "thisline.sort()\n",
    "print(thisline)"
   ],
   "id": "59749c6ba5ad293a",
   "outputs": [
    {
     "name": "stdout",
     "output_type": "stream",
     "text": [
      "['aeroplan', 'bike', 'car', 'helicopter']\n"
     ]
    }
   ],
   "execution_count": 81
  },
  {
   "metadata": {
    "ExecuteTime": {
     "end_time": "2025-02-26T10:23:47.719085600Z",
     "start_time": "2025-02-25T10:23:32.237352Z"
    }
   },
   "cell_type": "code",
   "source": [
    "thislist = [\"100\",\"80\",\"50\",\"30\",\"20\",\"10\"]\n",
    "thislist.sort()         # assending order ma gothve number ke input vlue ne\n",
    "print(thislist)"
   ],
   "id": "386a1c3f79e24420",
   "outputs": [
    {
     "name": "stdout",
     "output_type": "stream",
     "text": [
      "['10', '100', '20', '30', '50', '80']\n"
     ]
    }
   ],
   "execution_count": 82
  },
  {
   "metadata": {
    "ExecuteTime": {
     "end_time": "2025-02-26T10:23:47.719085600Z",
     "start_time": "2025-02-26T09:18:11.099094Z"
    }
   },
   "cell_type": "code",
   "source": [
    "thislist = [\"20\",\"50\",\"27\",\"89\",\"59\",\"76\",\"32\"]\n",
    "thislist.sort()\n",
    "print(thislist)"
   ],
   "id": "d01a5aae9d74787b",
   "outputs": [
    {
     "name": "stdout",
     "output_type": "stream",
     "text": [
      "['20', '27', '32', '50', '59', '76', '89']\n"
     ]
    }
   ],
   "execution_count": 51
  },
  {
   "metadata": {
    "ExecuteTime": {
     "end_time": "2025-02-26T10:23:47.719085600Z",
     "start_time": "2025-02-25T10:26:32.864186Z"
    }
   },
   "cell_type": "code",
   "source": [
    "thislist = [\"apple\",\"banana\",\"orange\",\"mango\"]\n",
    "thislist.sort(reverse=True)             # desecnding order ma gothve string ne ke number ne\n",
    "print(thislist)"
   ],
   "id": "83e42985dae22535",
   "outputs": [
    {
     "name": "stdout",
     "output_type": "stream",
     "text": [
      "['orange', 'mango', 'banana', 'apple']\n"
     ]
    }
   ],
   "execution_count": 84
  },
  {
   "metadata": {
    "ExecuteTime": {
     "end_time": "2025-02-26T10:23:47.719085600Z",
     "start_time": "2025-02-25T10:30:56.327006Z"
    }
   },
   "cell_type": "code",
   "source": [
    "thislist = [100,40,90,30,20,50,10,5,3,1]\n",
    "thislist.sort(reverse = True)           # number ne desending order ma gothve\n",
    "print(thislist)"
   ],
   "id": "69320c63bed4b492",
   "outputs": [
    {
     "name": "stdout",
     "output_type": "stream",
     "text": [
      "[100, 90, 50, 40, 30, 20, 10, 5, 3, 1]\n"
     ]
    }
   ],
   "execution_count": 88
  },
  {
   "metadata": {
    "ExecuteTime": {
     "end_time": "2025-02-26T10:23:47.719085600Z",
     "start_time": "2025-02-25T10:42:42.397356Z"
    }
   },
   "cell_type": "code",
   "source": [
    "def myfunc(n):\n",
    "    return abs(n-50)\n",
    "thislist = [100,50,60,30]     # this code calculate diffrence between ,that number to 50 .\n",
    "thislist.sort(key=myfunc)\n",
    "print(thislist)\n",
    "\n",
    "# 100 - 50 = 50 | ~4\n",
    "# 50 - 50 = 0   | ~1\n",
    "# 60 - 50 = 10  | ~2\n",
    "# 30 - 50 = -20 | ~3 (but that consider as positive number always)"
   ],
   "id": "6a13d1bbc117a05c",
   "outputs": [
    {
     "name": "stdout",
     "output_type": "stream",
     "text": [
      "[50, 60, 30, 100]\n"
     ]
    }
   ],
   "execution_count": 91
  },
  {
   "metadata": {
    "ExecuteTime": {
     "end_time": "2025-02-26T10:23:47.719085600Z",
     "start_time": "2025-02-25T10:44:40.418672Z"
    }
   },
   "cell_type": "code",
   "source": [
    "def myfunc(n):\n",
    "    return abs(n-50)\n",
    "thislist = [100,50,60,30]\n",
    "thislist.sort(key=myfunc)\n",
    "print(thislist)"
   ],
   "id": "ca4d2a1d4ea6e59a",
   "outputs": [
    {
     "name": "stdout",
     "output_type": "stream",
     "text": [
      "[50, 60, 30, 100]\n"
     ]
    }
   ],
   "execution_count": 93
  },
  {
   "metadata": {
    "ExecuteTime": {
     "end_time": "2025-02-26T10:23:47.719085600Z",
     "start_time": "2025-02-25T10:46:09.421682Z"
    }
   },
   "cell_type": "code",
   "source": [
    "def myfunc(n):\n",
    "    return abs(n-40)\n",
    "thislist = [100,70,80,20]\n",
    "thislist.sort(key=myfunc)\n",
    "print(thislist)\n"
   ],
   "id": "9eed35b7274c8ee4",
   "outputs": [
    {
     "name": "stdout",
     "output_type": "stream",
     "text": [
      "[20, 70, 80, 100]\n"
     ]
    }
   ],
   "execution_count": 94
  },
  {
   "metadata": {
    "ExecuteTime": {
     "end_time": "2025-02-26T10:23:47.719085600Z",
     "start_time": "2025-02-25T11:06:43.722147Z"
    }
   },
   "cell_type": "code",
   "source": [
    "def myfunc(n):\n",
    "    return abs(n-30)\n",
    "thislist = [130,60,130,140]\n",
    "thislist.sort(key=myfunc)\n",
    "print(thislist)"
   ],
   "id": "67d60157f8842acc",
   "outputs": [
    {
     "name": "stdout",
     "output_type": "stream",
     "text": [
      "[60, 130, 130, 140]\n"
     ]
    }
   ],
   "execution_count": 96
  },
  {
   "metadata": {
    "ExecuteTime": {
     "end_time": "2025-02-26T10:23:47.719085600Z",
     "start_time": "2025-02-25T12:01:25.112105Z"
    }
   },
   "cell_type": "code",
   "source": [
    "def mufunc(n):\n",
    "    return abs(n-100)\n",
    "thislist = [70.60,5,43,21,79]\n",
    "thislist.sort(key=myfunc)\n",
    "print(thislist)"
   ],
   "id": "8b85eaa043aa74d3",
   "outputs": [
    {
     "name": "stdout",
     "output_type": "stream",
     "text": [
      "[21, 43, 5, 70.6, 79]\n"
     ]
    }
   ],
   "execution_count": 97
  },
  {
   "metadata": {
    "ExecuteTime": {
     "end_time": "2025-02-26T10:23:47.719085600Z",
     "start_time": "2025-02-25T12:03:02.176409Z"
    }
   },
   "cell_type": "code",
   "source": [
    "def myfunc(n):\n",
    "    return abs (n-30)\n",
    "thislist = [50,60,49,93,23]\n",
    "thislist.sort(key=myfunc)\n",
    "print(thislist)"
   ],
   "id": "d4506a9839d25768",
   "outputs": [
    {
     "name": "stdout",
     "output_type": "stream",
     "text": [
      "[23, 49, 50, 60, 93]\n"
     ]
    }
   ],
   "execution_count": 98
  },
  {
   "metadata": {
    "ExecuteTime": {
     "end_time": "2025-02-26T10:23:47.719085600Z",
     "start_time": "2025-02-25T12:06:03.142297Z"
    }
   },
   "cell_type": "code",
   "source": [
    "def myfunc(n):\n",
    "    return abs(n-10)\n",
    "thislist = [40,90,20,10,39]\n",
    "thislist.sort(key=myfunc)\n",
    "print(thislist)"
   ],
   "id": "fe4bddbcfb647704",
   "outputs": [
    {
     "name": "stdout",
     "output_type": "stream",
     "text": [
      "[10, 20, 39, 40, 90]\n"
     ]
    }
   ],
   "execution_count": 100
  },
  {
   "metadata": {
    "ExecuteTime": {
     "end_time": "2025-02-26T10:23:47.719085600Z",
     "start_time": "2025-02-25T12:08:45.361002Z"
    }
   },
   "cell_type": "code",
   "source": [
    "def myfunc(n):\n",
    "    return abs(n-20)\n",
    "thislist = [10,20,30,40,50]\n",
    "thislist.sort(key=myfunc)\n",
    "print(thislist)"
   ],
   "id": "f54bfe3790fcc75e",
   "outputs": [
    {
     "name": "stdout",
     "output_type": "stream",
     "text": [
      "[20, 10, 30, 40, 50]\n"
     ]
    }
   ],
   "execution_count": 101
  },
  {
   "metadata": {
    "ExecuteTime": {
     "end_time": "2025-02-26T10:23:47.719085600Z",
     "start_time": "2025-02-25T12:13:17.887770Z"
    }
   },
   "cell_type": "code",
   "source": [
    "thislist = [\"apple\",\"Banana\",\"Orange\",\"mango\"]\n",
    "thislist.sort()            # case sensitive in capital letter are first and after set lowercase letter\n",
    "print(thislist)"
   ],
   "id": "ceefe3ea6428e073",
   "outputs": [
    {
     "name": "stdout",
     "output_type": "stream",
     "text": [
      "['Banana', 'Orange', 'apple', 'mango']\n"
     ]
    }
   ],
   "execution_count": 103
  },
  {
   "metadata": {
    "ExecuteTime": {
     "end_time": "2025-02-26T10:23:47.719085600Z",
     "start_time": "2025-02-25T12:17:03.670384Z"
    }
   },
   "cell_type": "code",
   "source": [
    "thislist = [\"apple\",\"Banana\",\"Orange\",\"mango\",\"Grapes\"]\n",
    "thislist.sort(key=str.lower)    # case insensitive in not proper show in continus way capital or small\n",
    "print(thislist)"
   ],
   "id": "855c73147d5589ca",
   "outputs": [
    {
     "name": "stdout",
     "output_type": "stream",
     "text": [
      "['apple', 'Banana', 'Grapes', 'mango', 'Orange']\n"
     ]
    }
   ],
   "execution_count": 108
  },
  {
   "metadata": {
    "ExecuteTime": {
     "end_time": "2025-02-26T10:23:47.719085600Z",
     "start_time": "2025-02-25T12:19:21.171862Z"
    }
   },
   "cell_type": "code",
   "source": [
    "thislist = [\"car\",\"bike\",\"plane\",\"helicopter\"]\n",
    "thislist.sort(key=str.lower)\n",
    "print(thislist)"
   ],
   "id": "fea47e5f1866ee17",
   "outputs": [
    {
     "name": "stdout",
     "output_type": "stream",
     "text": [
      "['bike', 'car', 'helicopter', 'plane']\n"
     ]
    }
   ],
   "execution_count": 109
  },
  {
   "metadata": {
    "ExecuteTime": {
     "end_time": "2025-02-26T10:23:47.719085600Z",
     "start_time": "2025-02-25T12:46:41.519120Z"
    }
   },
   "cell_type": "code",
   "source": [
    "thislist = [\"carbon\",\"oxyzen\",\"Hydrozen\",\"hiliuam\"]\n",
    "thislist.sort(key=str.lower)\n",
    "print(thislist)\n"
   ],
   "id": "3562b7f066a3df52",
   "outputs": [
    {
     "name": "stdout",
     "output_type": "stream",
     "text": [
      "['carbon', 'hiliuam', 'Hydrozen', 'oxyzen']\n"
     ]
    }
   ],
   "execution_count": 111
  },
  {
   "metadata": {
    "ExecuteTime": {
     "end_time": "2025-02-26T10:23:47.719085600Z",
     "start_time": "2025-02-25T12:49:11.160294Z"
    }
   },
   "cell_type": "code",
   "source": [
    "thislist = [\"car\",\"bike\",\"plane\",\"helicopter\"]\n",
    "thislist.sort(key=str.lower)\n",
    "print(thislist)"
   ],
   "id": "1932b337fae2cdc4",
   "outputs": [
    {
     "name": "stdout",
     "output_type": "stream",
     "text": [
      "['bike', 'car', 'helicopter', 'plane']\n"
     ]
    }
   ],
   "execution_count": 112
  },
  {
   "metadata": {
    "ExecuteTime": {
     "end_time": "2025-02-26T10:23:47.719085600Z",
     "start_time": "2025-02-25T12:49:45.499520Z"
    }
   },
   "cell_type": "code",
   "source": [
    "thislist = [\"car\",\"bike\",\"plane\",\"helicopter\"]\n",
    "thislist.reverse()\n",
    "print(thislist)         # that function work to set all string in reverse way like (first to last,last to first)"
   ],
   "id": "35f507dc23efd71c",
   "outputs": [
    {
     "name": "stdout",
     "output_type": "stream",
     "text": [
      "['helicopter', 'plane', 'bike', 'car']\n"
     ]
    }
   ],
   "execution_count": 113
  },
  {
   "metadata": {
    "ExecuteTime": {
     "end_time": "2025-02-26T10:23:47.719085600Z",
     "start_time": "2025-02-25T13:08:51.532513Z"
    }
   },
   "cell_type": "code",
   "source": [
    "thislist = [\"car\",\"bike\",\"plane\",\"helicopter\"]\n",
    "mylist = thislist.copy()\n",
    "print(mylist)"
   ],
   "id": "44943718f32916ba",
   "outputs": [
    {
     "name": "stdout",
     "output_type": "stream",
     "text": [
      "['car', 'bike', 'plane', 'helicopter']\n"
     ]
    }
   ],
   "execution_count": 114
  },
  {
   "metadata": {
    "ExecuteTime": {
     "end_time": "2025-02-26T10:23:47.735314800Z",
     "start_time": "2025-02-25T13:10:24.010082Z"
    }
   },
   "cell_type": "code",
   "source": [
    "thislist = [\"car\",\"bike\",\"plane\",\"helicopter\"]\n",
    "mylist = thislist.copy()\n",
    "print(mylist)                    # new list ma iteam copy kare"
   ],
   "id": "da23048b8cf1907f",
   "outputs": [
    {
     "name": "stdout",
     "output_type": "stream",
     "text": [
      "['car', 'bike', 'plane', 'helicopter']\n"
     ]
    }
   ],
   "execution_count": 115
  },
  {
   "metadata": {
    "ExecuteTime": {
     "end_time": "2025-02-26T10:23:47.735314800Z",
     "start_time": "2025-02-26T09:18:22.231331Z"
    }
   },
   "cell_type": "code",
   "source": [
    "thislist = [\"car\",\"bike\",\"plane\",\"helicopter\"]\n",
    "mylist = list(thislist)\n",
    "print(mylist)"
   ],
   "id": "3048aadd807eae3f",
   "outputs": [
    {
     "name": "stdout",
     "output_type": "stream",
     "text": [
      "['car', 'bike', 'plane', 'helicopter']\n"
     ]
    }
   ],
   "execution_count": 52
  },
  {
   "metadata": {
    "ExecuteTime": {
     "end_time": "2025-02-26T10:23:47.735314800Z",
     "start_time": "2025-02-26T09:20:44.851080Z"
    }
   },
   "cell_type": "code",
   "source": [
    "thislist = [\"apple\",\"google\",\"blackbarry\",\"redcherry\"]\n",
    "newlist = thislist.copy()\n",
    "print(thislist)"
   ],
   "id": "2937a6f461d048f7",
   "outputs": [
    {
     "name": "stdout",
     "output_type": "stream",
     "text": [
      "['apple', 'google', 'blackbarry', 'redcherry']\n"
     ]
    }
   ],
   "execution_count": 54
  },
  {
   "metadata": {
    "ExecuteTime": {
     "end_time": "2025-02-26T10:23:47.735314800Z",
     "start_time": "2025-02-26T09:23:57.526717Z"
    }
   },
   "cell_type": "code",
   "source": [
    "thislist = [\"apple\",\"jquery\",\"blackbarry\",\"tom&jarry\"]\n",
    "mylist = thislist[1:3]          # slice operator (:) ni aagad no number aavi jase pachina number vadi string ny aave\n",
    "print(mylist)"
   ],
   "id": "5387ed59e8bc63a5",
   "outputs": [
    {
     "name": "stdout",
     "output_type": "stream",
     "text": [
      "['jquery', 'blackbarry']\n"
     ]
    }
   ],
   "execution_count": 58
  },
  {
   "metadata": {
    "ExecuteTime": {
     "end_time": "2025-02-26T10:23:47.735314800Z",
     "start_time": "2025-02-26T09:36:17.825409Z"
    }
   },
   "cell_type": "code",
   "source": [
    "thislist = [\"oggy\",\"jack\",\"chota-bheem\",\"tom&jarry\"]\n",
    "mylist = thislist[:]\n",
    "print(mylist)"
   ],
   "id": "419d128672d06c9",
   "outputs": [
    {
     "name": "stdout",
     "output_type": "stream",
     "text": [
      "['oggy', 'jack', 'chota-bheem', 'tom&jarry']\n"
     ]
    }
   ],
   "execution_count": 59
  },
  {
   "metadata": {
    "ExecuteTime": {
     "end_time": "2025-02-26T10:23:47.735314800Z",
     "start_time": "2025-02-26T09:42:55.078035Z"
    }
   },
   "cell_type": "code",
   "source": [
    "thislist = [\"toyota\",\"fortunar\",\"mercydese\",\"honda\"]\n",
    "mylist = list(thislist)            # list method thi old variable mathi new variable ma string\n",
    "print(mylist)"
   ],
   "id": "f4d9656d905396c3",
   "outputs": [
    {
     "name": "stdout",
     "output_type": "stream",
     "text": [
      "['toyota', 'fortunar', 'mercydese', 'honda']\n"
     ]
    }
   ],
   "execution_count": 61
  },
  {
   "metadata": {
    "ExecuteTime": {
     "end_time": "2025-02-26T10:23:47.735314800Z",
     "start_time": "2025-02-26T09:44:44.371668Z"
    }
   },
   "cell_type": "code",
   "source": [
    "list1 = [\"a\",\"b\",\"c\"]\n",
    "list2 = [1,2,3]\n",
    "                        # using (+)operator add two variable and create new variable\n",
    "list3 = list1 + list2\n",
    "print(list3)"
   ],
   "id": "6773605dde28166c",
   "outputs": [
    {
     "name": "stdout",
     "output_type": "stream",
     "text": [
      "['a', 'b', 'c', 1, 2, 3]\n"
     ]
    }
   ],
   "execution_count": 62
  },
  {
   "metadata": {
    "ExecuteTime": {
     "end_time": "2025-02-26T10:23:47.735314800Z",
     "start_time": "2025-02-26T09:53:00.177020Z"
    }
   },
   "cell_type": "code",
   "source": [
    "list1 = [\"a\",\"b\",\"c\"]\n",
    "list2 = [\"1\",\"2\",\"3\"]\n",
    "\n",
    "for x in list2:\n",
    "    list1.append(x)       # using append function add two variable string in one\n",
    "\n",
    "print(list1)"
   ],
   "id": "c2fb6625913724ae",
   "outputs": [
    {
     "name": "stdout",
     "output_type": "stream",
     "text": [
      "['a', 'b', 'c', '1', '2', '3']\n"
     ]
    }
   ],
   "execution_count": 64
  },
  {
   "metadata": {
    "ExecuteTime": {
     "end_time": "2025-02-26T10:23:47.735314800Z",
     "start_time": "2025-02-26T09:56:08.641915Z"
    }
   },
   "cell_type": "code",
   "source": [
    "list1 = [\"a\",\"b\",\"c\"]\n",
    "list2 = [\"1\",\"2\",\"3\"]\n",
    "\n",
    "list1.extend(list2)     # using extend function to use add list2 in list1\n",
    "print(list1)"
   ],
   "id": "49f4363044a1d3e1",
   "outputs": [
    {
     "name": "stdout",
     "output_type": "stream",
     "text": [
      "['a', 'b', 'c', '1', '2', '3']\n"
     ]
    }
   ],
   "execution_count": 66
  },
  {
   "metadata": {
    "ExecuteTime": {
     "end_time": "2025-02-26T10:24:12.810981Z",
     "start_time": "2025-02-26T10:24:12.803408Z"
    }
   },
   "cell_type": "code",
   "source": [
    "list1 = [\"A\",\"B\",\"C\"]\n",
    "list2 = [\"1\",\"2\",\"3\"]\n",
    "list1.clear()\n",
    "print(list1)\n"
   ],
   "id": "f0564559d5f6edf3",
   "outputs": [
    {
     "name": "stdout",
     "output_type": "stream",
     "text": [
      "[]\n"
     ]
    }
   ],
   "execution_count": 119
  },
  {
   "metadata": {
    "ExecuteTime": {
     "end_time": "2025-02-26T10:27:45.376579Z",
     "start_time": "2025-02-26T10:27:45.371621Z"
    }
   },
   "cell_type": "code",
   "source": [
    "list1 = [\"a\",\"b\",\"c\"]\n",
    "A=list1.copy()\n",
    "print(A)\n"
   ],
   "id": "d0372f57dc3acf74",
   "outputs": [
    {
     "name": "stdout",
     "output_type": "stream",
     "text": [
      "['a', 'b', 'c']\n"
     ]
    }
   ],
   "execution_count": 125
  },
  {
   "metadata": {
    "ExecuteTime": {
     "end_time": "2025-02-26T11:42:16.761275Z",
     "start_time": "2025-02-26T11:42:16.747688Z"
    }
   },
   "cell_type": "code",
   "source": [
    "list1 = [\"red\",\"black\",\"crayon\",\"darkblue\",\"crayon\"]\n",
    "p=list1.count(\"crayon\")  # in a count perticular string in variable.\n",
    "print(p)"
   ],
   "id": "65165f4ab9ebd055",
   "outputs": [
    {
     "name": "stdout",
     "output_type": "stream",
     "text": [
      "2\n"
     ]
    }
   ],
   "execution_count": 139
  },
  {
   "metadata": {
    "ExecuteTime": {
     "end_time": "2025-02-26T11:49:07.598774Z",
     "start_time": "2025-02-26T11:49:07.591906Z"
    }
   },
   "cell_type": "code",
   "source": [
    "fruits = [\"apple\",\"banana\",\"orange\",\"mango\"]\n",
    "cars = [\"BMW\",\"Toyota\",\"Audi\",\"Mercedes\"]\n",
    "                            # extend function\n",
    "cars.extend(fruits)\n",
    "print(cars)"
   ],
   "id": "e3e6ef4fbdec9431",
   "outputs": [
    {
     "name": "stdout",
     "output_type": "stream",
     "text": [
      "['BMW', 'Toyota', 'Audi', 'Mercedes', 'apple', 'banana', 'orange', 'mango']\n"
     ]
    }
   ],
   "execution_count": 147
  },
  {
   "metadata": {
    "ExecuteTime": {
     "end_time": "2025-02-26T11:50:13.415269Z",
     "start_time": "2025-02-26T11:50:13.410346Z"
    }
   },
   "cell_type": "code",
   "source": [
    "cars = [\"BMW\",\"Toyota\",\"Audi\",\"Mercedes\"]\n",
    "\n",
    "print(cars.index(\"Audi\"))"
   ],
   "id": "623371ba7bbdc63c",
   "outputs": [
    {
     "name": "stdout",
     "output_type": "stream",
     "text": [
      "2\n"
     ]
    }
   ],
   "execution_count": 149
  },
  {
   "metadata": {
    "ExecuteTime": {
     "end_time": "2025-02-26T11:52:02.835448Z",
     "start_time": "2025-02-26T11:52:02.829136Z"
    }
   },
   "cell_type": "code",
   "source": [
    "cars = [\"BMW\",\"Toyota\",\"Audi\",\"Mercedes\"]\n",
    "cars.insert(3,\"Nissan\")\n",
    "print(cars)"
   ],
   "id": "bf388922b9c90a35",
   "outputs": [
    {
     "name": "stdout",
     "output_type": "stream",
     "text": [
      "['BMW', 'Toyota', 'Audi', 'Nissan', 'Mercedes']\n"
     ]
    }
   ],
   "execution_count": 159
  },
  {
   "metadata": {
    "ExecuteTime": {
     "end_time": "2025-02-26T11:54:47.740519Z",
     "start_time": "2025-02-26T11:54:47.734008Z"
    }
   },
   "cell_type": "code",
   "source": [
    "thislist = [\"apple\",\"banana\",\"orange\",\"mango\"]\n",
    "thislist.pop(1)\n",
    "print(thislist)"
   ],
   "id": "63a9083d8b732874",
   "outputs": [
    {
     "name": "stdout",
     "output_type": "stream",
     "text": [
      "['apple', 'orange', 'mango']\n"
     ]
    }
   ],
   "execution_count": 161
  },
  {
   "metadata": {
    "ExecuteTime": {
     "end_time": "2025-02-26T11:56:41.359882Z",
     "start_time": "2025-02-26T11:56:41.352764Z"
    }
   },
   "cell_type": "code",
   "source": [
    "thislist = [\"apple\",\"banana\",\"orange\",\"mango\"]\n",
    "thislist.remove(\"mango\")\n",
    "print(thislist)"
   ],
   "id": "b0e65afa2359b53d",
   "outputs": [
    {
     "name": "stdout",
     "output_type": "stream",
     "text": [
      "['apple', 'banana', 'orange']\n"
     ]
    }
   ],
   "execution_count": 166
  },
  {
   "metadata": {
    "ExecuteTime": {
     "end_time": "2025-02-26T11:59:28.382407Z",
     "start_time": "2025-02-26T11:59:28.376813Z"
    }
   },
   "cell_type": "code",
   "source": [
    "thislist = [\"apple\",\"banana\",\"orange\",\"mango\"]\n",
    "thislist.reverse()\n",
    "print(thislist)         # reverse all iteam to replace in (start to end) to (end to start)"
   ],
   "id": "3fc6c63d5449eafa",
   "outputs": [
    {
     "name": "stdout",
     "output_type": "stream",
     "text": [
      "['mango', 'orange', 'banana', 'apple']\n"
     ]
    }
   ],
   "execution_count": 172
  },
  {
   "metadata": {
    "ExecuteTime": {
     "end_time": "2025-02-26T12:02:00.397064Z",
     "start_time": "2025-02-26T12:02:00.390516Z"
    }
   },
   "cell_type": "code",
   "source": [
    "thislist = [\"apple\",\"banana\",\"orange\",\"mango\"]\n",
    "thislist.sort()         #  arrange in a-z way\n",
    "print(thislist)"
   ],
   "id": "ecc4c1f135b2ed08",
   "outputs": [
    {
     "name": "stdout",
     "output_type": "stream",
     "text": [
      "['apple', 'banana', 'mango', 'orange']\n"
     ]
    }
   ],
   "execution_count": 179
  },
  {
   "metadata": {},
   "cell_type": "code",
   "outputs": [],
   "execution_count": null,
   "source": "",
   "id": "6a046fb471bdda82"
  }
 ],
 "metadata": {
  "kernelspec": {
   "display_name": "Python 3 (ipykernel)",
   "language": "python",
   "name": "python3"
  },
  "language_info": {
   "codemirror_mode": {
    "name": "ipython",
    "version": 3
   },
   "file_extension": ".py",
   "mimetype": "text/x-python",
   "name": "python",
   "nbconvert_exporter": "python",
   "pygments_lexer": "ipython3",
   "version": "3.13.2"
  }
 },
 "nbformat": 4,
 "nbformat_minor": 5
}
